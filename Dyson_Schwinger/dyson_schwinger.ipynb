{
 "cells": [
  {
   "cell_type": "code",
   "execution_count": 1,
   "metadata": {},
   "outputs": [],
   "source": [
    "import os\n",
    "import sys\n",
    "import sympy as sp\n",
    "from sympy import I, sqrt, conjugate\n",
    "import matplotlib.pyplot as plt\n",
    "from IPython.display import Math, display\n",
    "from sympy import init_printing\n",
    "\n",
    "# Import libraries from their folders\n",
    "from dyson_schwinger_library import Dyson_Schwinger_QED\n",
    "import standard_formulas as SF\n",
    "\n",
    "sp.init_printing(use_unicode=True, use_latex='mathjax')\n",
    "\n",
    "DS = Dyson_Schwinger_QED()\n",
    "sf = SF.standard_formulas()"
   ]
  },
  {
   "cell_type": "code",
   "execution_count": 2,
   "metadata": {},
   "outputs": [
    {
     "name": "stdout",
     "output_type": "stream",
     "text": [
      "ε-:\n"
     ]
    },
    {
     "data": {
      "text/latex": [
       "$\\displaystyle \\left[\\begin{matrix}- \\frac{\\sqrt{2} \\sqrt{px^{2} + py^{2}}}{2 \\sqrt{px^{2} + py^{2} + pz^{2}}}\\\\\\frac{\\sqrt{2} \\sqrt{px^{2} + py^{2}}}{2 \\sqrt{px^{2} + py^{2} + pz^{2}}}\\\\\\frac{\\sqrt{2} \\left(px + i py\\right) \\left(pz + \\sqrt{px^{2} + py^{2} + pz^{2}}\\right)}{2 \\sqrt{px^{2} + py^{2}} \\sqrt{px^{2} + py^{2} + pz^{2}}}\\\\\\frac{\\sqrt{2} \\left(px - i py\\right) \\left(pz - \\sqrt{px^{2} + py^{2} + pz^{2}}\\right)}{2 \\sqrt{px^{2} + py^{2}} \\sqrt{px^{2} + py^{2} + pz^{2}}}\\end{matrix}\\right]$"
      ],
      "text/plain": [
       "⎡                  ___________             ⎤\n",
       "⎢                 ╱   2     2              ⎥\n",
       "⎢           -√2⋅╲╱  px  + py               ⎥\n",
       "⎢          ──────────────────────          ⎥\n",
       "⎢               _________________          ⎥\n",
       "⎢              ╱   2     2     2           ⎥\n",
       "⎢          2⋅╲╱  px  + py  + pz            ⎥\n",
       "⎢                                          ⎥\n",
       "⎢                  ___________             ⎥\n",
       "⎢                 ╱   2     2              ⎥\n",
       "⎢            √2⋅╲╱  px  + py               ⎥\n",
       "⎢          ──────────────────────          ⎥\n",
       "⎢               _________________          ⎥\n",
       "⎢              ╱   2     2     2           ⎥\n",
       "⎢          2⋅╲╱  px  + py  + pz            ⎥\n",
       "⎢                                          ⎥\n",
       "⎢               ⎛        _________________⎞⎥\n",
       "⎢               ⎜       ╱   2     2     2 ⎟⎥\n",
       "⎢√2⋅(px + ⅈ⋅py)⋅⎝pz + ╲╱  px  + py  + pz  ⎠⎥\n",
       "⎢──────────────────────────────────────────⎥\n",
       "⎢       ___________    _________________   ⎥\n",
       "⎢      ╱   2     2    ╱   2     2     2    ⎥\n",
       "⎢  2⋅╲╱  px  + py  ⋅╲╱  px  + py  + pz     ⎥\n",
       "⎢                                          ⎥\n",
       "⎢               ⎛        _________________⎞⎥\n",
       "⎢               ⎜       ╱   2     2     2 ⎟⎥\n",
       "⎢√2⋅(px - ⅈ⋅py)⋅⎝pz - ╲╱  px  + py  + pz  ⎠⎥\n",
       "⎢──────────────────────────────────────────⎥\n",
       "⎢       ___________    _________________   ⎥\n",
       "⎢      ╱   2     2    ╱   2     2     2    ⎥\n",
       "⎣  2⋅╲╱  px  + py  ⋅╲╱  px  + py  + pz     ⎦"
      ]
     },
     "metadata": {},
     "output_type": "display_data"
    },
    {
     "name": "stdout",
     "output_type": "stream",
     "text": [
      "\n",
      "ε+:\n"
     ]
    },
    {
     "data": {
      "text/latex": [
       "$\\displaystyle \\left[\\begin{matrix}\\frac{\\sqrt{2} \\sqrt{px^{2} + py^{2}}}{2 \\sqrt{px^{2} + py^{2} + pz^{2}}}\\\\- \\frac{\\sqrt{2} \\sqrt{px^{2} + py^{2}}}{2 \\sqrt{px^{2} + py^{2} + pz^{2}}}\\\\\\frac{\\sqrt{2} \\left(px + i py\\right) \\left(- pz + \\sqrt{px^{2} + py^{2} + pz^{2}}\\right)}{2 \\sqrt{px^{2} + py^{2}} \\sqrt{px^{2} + py^{2} + pz^{2}}}\\\\\\frac{\\sqrt{2} \\left(px - i py\\right) \\left(- pz - \\sqrt{px^{2} + py^{2} + pz^{2}}\\right)}{2 \\sqrt{px^{2} + py^{2}} \\sqrt{px^{2} + py^{2} + pz^{2}}}\\end{matrix}\\right]$"
      ],
      "text/plain": [
       "⎡                  ___________              ⎤\n",
       "⎢                 ╱   2     2               ⎥\n",
       "⎢            √2⋅╲╱  px  + py                ⎥\n",
       "⎢          ──────────────────────           ⎥\n",
       "⎢               _________________           ⎥\n",
       "⎢              ╱   2     2     2            ⎥\n",
       "⎢          2⋅╲╱  px  + py  + pz             ⎥\n",
       "⎢                                           ⎥\n",
       "⎢                  ___________              ⎥\n",
       "⎢                 ╱   2     2               ⎥\n",
       "⎢           -√2⋅╲╱  px  + py                ⎥\n",
       "⎢          ──────────────────────           ⎥\n",
       "⎢               _________________           ⎥\n",
       "⎢              ╱   2     2     2            ⎥\n",
       "⎢          2⋅╲╱  px  + py  + pz             ⎥\n",
       "⎢                                           ⎥\n",
       "⎢               ⎛         _________________⎞⎥\n",
       "⎢               ⎜        ╱   2     2     2 ⎟⎥\n",
       "⎢√2⋅(px + ⅈ⋅py)⋅⎝-pz + ╲╱  px  + py  + pz  ⎠⎥\n",
       "⎢───────────────────────────────────────────⎥\n",
       "⎢        ___________    _________________   ⎥\n",
       "⎢       ╱   2     2    ╱   2     2     2    ⎥\n",
       "⎢   2⋅╲╱  px  + py  ⋅╲╱  px  + py  + pz     ⎥\n",
       "⎢                                           ⎥\n",
       "⎢               ⎛         _________________⎞⎥\n",
       "⎢               ⎜        ╱   2     2     2 ⎟⎥\n",
       "⎢√2⋅(px - ⅈ⋅py)⋅⎝-pz - ╲╱  px  + py  + pz  ⎠⎥\n",
       "⎢───────────────────────────────────────────⎥\n",
       "⎢        ___________    _________________   ⎥\n",
       "⎢       ╱   2     2    ╱   2     2     2    ⎥\n",
       "⎣   2⋅╲╱  px  + py  ⋅╲╱  px  + py  + pz     ⎦"
      ]
     },
     "metadata": {},
     "output_type": "display_data"
    },
    {
     "name": "stdout",
     "output_type": "stream",
     "text": [
      "\n",
      "ε0:\n"
     ]
    },
    {
     "data": {
      "text/latex": [
       "$\\displaystyle \\left[\\begin{matrix}\\frac{\\sqrt{2} pz}{2 \\sqrt{px^{2} + py^{2} + pz^{2}}} + \\frac{\\sqrt{2} \\sqrt{px^{2} + py^{2} + pz^{2}}}{2 p_{0}}\\\\- \\frac{\\sqrt{2} pz}{2 \\sqrt{px^{2} + py^{2} + pz^{2}}} + \\frac{\\sqrt{2} \\sqrt{px^{2} + py^{2} + pz^{2}}}{2 p_{0}}\\\\\\frac{\\sqrt{2} \\left(px + i py\\right)}{2 \\sqrt{px^{2} + py^{2} + pz^{2}}}\\\\\\frac{\\sqrt{2} \\left(px - i py\\right)}{2 \\sqrt{px^{2} + py^{2} + pz^{2}}}\\end{matrix}\\right]$"
      ],
      "text/plain": [
       "⎡                                _________________ ⎤\n",
       "⎢                               ╱   2     2     2  ⎥\n",
       "⎢         √2⋅pz            √2⋅╲╱  px  + py  + pz   ⎥\n",
       "⎢ ────────────────────── + ─────────────────────── ⎥\n",
       "⎢      _________________             2⋅p₀          ⎥\n",
       "⎢     ╱   2     2     2                            ⎥\n",
       "⎢ 2⋅╲╱  px  + py  + pz                             ⎥\n",
       "⎢                                                  ⎥\n",
       "⎢                                 _________________⎥\n",
       "⎢                                ╱   2     2     2 ⎥\n",
       "⎢          √2⋅pz            √2⋅╲╱  px  + py  + pz  ⎥\n",
       "⎢- ────────────────────── + ───────────────────────⎥\n",
       "⎢       _________________             2⋅p₀         ⎥\n",
       "⎢      ╱   2     2     2                           ⎥\n",
       "⎢  2⋅╲╱  px  + py  + pz                            ⎥\n",
       "⎢                                                  ⎥\n",
       "⎢                  √2⋅(px + ⅈ⋅py)                  ⎥\n",
       "⎢              ──────────────────────              ⎥\n",
       "⎢                   _________________              ⎥\n",
       "⎢                  ╱   2     2     2               ⎥\n",
       "⎢              2⋅╲╱  px  + py  + pz                ⎥\n",
       "⎢                                                  ⎥\n",
       "⎢                  √2⋅(px - ⅈ⋅py)                  ⎥\n",
       "⎢              ──────────────────────              ⎥\n",
       "⎢                   _________________              ⎥\n",
       "⎢                  ╱   2     2     2               ⎥\n",
       "⎣              2⋅╲╱  px  + py  + pz                ⎦"
      ]
     },
     "metadata": {},
     "output_type": "display_data"
    },
    {
     "name": "stdout",
     "output_type": "stream",
     "text": [
      "\n",
      "u+:\n"
     ]
    },
    {
     "data": {
      "text/latex": [
       "$\\displaystyle \\left[\\begin{matrix}\\frac{\\sqrt{2} \\sqrt{\\left(p_{0} + \\sqrt{px^{2} + py^{2} + pz^{2}}\\right) \\left(pz + \\sqrt{px^{2} + py^{2} + pz^{2}}\\right)}}{2 \\sqrt[4]{px^{2} + py^{2} + pz^{2}}}\\\\\\frac{\\sqrt{2} \\left(p_{0} + \\sqrt{px^{2} + py^{2} + pz^{2}}\\right) \\left(px + i py\\right)}{2 \\sqrt{\\left(p_{0} + \\sqrt{px^{2} + py^{2} + pz^{2}}\\right) \\left(pz + \\sqrt{px^{2} + py^{2} + pz^{2}}\\right)} \\sqrt[4]{px^{2} + py^{2} + pz^{2}}}\\\\- \\frac{\\sqrt{2} m \\left(pz + \\sqrt{px^{2} + py^{2} + pz^{2}}\\right)}{2 \\sqrt{\\left(p_{0} + \\sqrt{px^{2} + py^{2} + pz^{2}}\\right) \\left(pz + \\sqrt{px^{2} + py^{2} + pz^{2}}\\right)} \\sqrt[4]{px^{2} + py^{2} + pz^{2}}}\\\\- \\frac{\\sqrt{2} m \\left(px + i py\\right)}{2 \\sqrt{\\left(p_{0} + \\sqrt{px^{2} + py^{2} + pz^{2}}\\right) \\left(pz + \\sqrt{px^{2} + py^{2} + pz^{2}}\\right)} \\sqrt[4]{px^{2} + py^{2} + pz^{2}}}\\end{matrix}\\right]$"
      ],
      "text/plain": [
       "⎡                 _________________________________________________________   \n",
       "⎢                ╱ ⎛        _________________⎞ ⎛        _________________⎞    \n",
       "⎢               ╱  ⎜       ╱   2     2     2 ⎟ ⎜       ╱   2     2     2 ⎟    \n",
       "⎢          √2⋅╲╱   ⎝p₀ + ╲╱  px  + py  + pz  ⎠⋅⎝pz + ╲╱  px  + py  + pz  ⎠    \n",
       "⎢          ────────────────────────────────────────────────────────────────   \n",
       "⎢                                    _________________                        \n",
       "⎢                                 4 ╱   2     2     2                         \n",
       "⎢                               2⋅╲╱  px  + py  + pz                          \n",
       "⎢                                                                             \n",
       "⎢                        ⎛        _________________⎞                          \n",
       "⎢                        ⎜       ╱   2     2     2 ⎟                          \n",
       "⎢                     √2⋅⎝p₀ + ╲╱  px  + py  + pz  ⎠⋅(px + ⅈ⋅py)              \n",
       "⎢─────────────────────────────────────────────────────────────────────────────\n",
       "⎢      _________________________________________________________              \n",
       "⎢     ╱ ⎛        _________________⎞ ⎛        _________________⎞     __________\n",
       "⎢    ╱  ⎜       ╱   2     2     2 ⎟ ⎜       ╱   2     2     2 ⎟  4 ╱   2     2\n",
       "⎢2⋅╲╱   ⎝p₀ + ╲╱  px  + py  + pz  ⎠⋅⎝pz + ╲╱  px  + py  + pz  ⎠ ⋅╲╱  px  + py \n",
       "⎢                                                                             \n",
       "⎢                               ⎛        _________________⎞                   \n",
       "⎢                               ⎜       ╱   2     2     2 ⎟                   \n",
       "⎢                         -√2⋅m⋅⎝pz + ╲╱  px  + py  + pz  ⎠                   \n",
       "⎢─────────────────────────────────────────────────────────────────────────────\n",
       "⎢      _________________________________________________________              \n",
       "⎢     ╱ ⎛        _________________⎞ ⎛        _________________⎞     __________\n",
       "⎢    ╱  ⎜       ╱   2     2     2 ⎟ ⎜       ╱   2     2     2 ⎟  4 ╱   2     2\n",
       "⎢2⋅╲╱   ⎝p₀ + ╲╱  px  + py  + pz  ⎠⋅⎝pz + ╲╱  px  + py  + pz  ⎠ ⋅╲╱  px  + py \n",
       "⎢                                                                             \n",
       "⎢                                 -√2⋅m⋅(px + ⅈ⋅py)                           \n",
       "⎢─────────────────────────────────────────────────────────────────────────────\n",
       "⎢      _________________________________________________________              \n",
       "⎢     ╱ ⎛        _________________⎞ ⎛        _________________⎞     __________\n",
       "⎢    ╱  ⎜       ╱   2     2     2 ⎟ ⎜       ╱   2     2     2 ⎟  4 ╱   2     2\n",
       "⎣2⋅╲╱   ⎝p₀ + ╲╱  px  + py  + pz  ⎠⋅⎝pz + ╲╱  px  + py  + pz  ⎠ ⋅╲╱  px  + py \n",
       "\n",
       "       ⎤\n",
       "       ⎥\n",
       "       ⎥\n",
       "       ⎥\n",
       "       ⎥\n",
       "       ⎥\n",
       "       ⎥\n",
       "       ⎥\n",
       "       ⎥\n",
       "       ⎥\n",
       "       ⎥\n",
       "       ⎥\n",
       "───────⎥\n",
       "       ⎥\n",
       "_______⎥\n",
       "     2 ⎥\n",
       " + pz  ⎥\n",
       "       ⎥\n",
       "       ⎥\n",
       "       ⎥\n",
       "       ⎥\n",
       "───────⎥\n",
       "       ⎥\n",
       "_______⎥\n",
       "     2 ⎥\n",
       " + pz  ⎥\n",
       "       ⎥\n",
       "       ⎥\n",
       "───────⎥\n",
       "       ⎥\n",
       "_______⎥\n",
       "     2 ⎥\n",
       " + pz  ⎦"
      ]
     },
     "metadata": {},
     "output_type": "display_data"
    },
    {
     "name": "stdout",
     "output_type": "stream",
     "text": [
      "\n",
      "u-:\n"
     ]
    },
    {
     "data": {
      "text/latex": [
       "$\\displaystyle \\left[\\begin{matrix}\\frac{\\sqrt{2} m \\left(px - i py\\right)}{2 \\sqrt{\\left(p_{0} + \\sqrt{px^{2} + py^{2} + pz^{2}}\\right) \\left(pz + \\sqrt{px^{2} + py^{2} + pz^{2}}\\right)} \\sqrt[4]{px^{2} + py^{2} + pz^{2}}}\\\\- \\frac{\\sqrt{2} m \\left(pz + \\sqrt{px^{2} + py^{2} + pz^{2}}\\right)}{2 \\sqrt{\\left(p_{0} + \\sqrt{px^{2} + py^{2} + pz^{2}}\\right) \\left(pz + \\sqrt{px^{2} + py^{2} + pz^{2}}\\right)} \\sqrt[4]{px^{2} + py^{2} + pz^{2}}}\\\\\\frac{\\sqrt{2} \\left(- p_{0} - \\sqrt{px^{2} + py^{2} + pz^{2}}\\right) \\left(px - i py\\right)}{2 \\sqrt{\\left(p_{0} + \\sqrt{px^{2} + py^{2} + pz^{2}}\\right) \\left(pz + \\sqrt{px^{2} + py^{2} + pz^{2}}\\right)} \\sqrt[4]{px^{2} + py^{2} + pz^{2}}}\\\\\\frac{\\sqrt{2} \\sqrt{\\left(p_{0} + \\sqrt{px^{2} + py^{2} + pz^{2}}\\right) \\left(pz + \\sqrt{px^{2} + py^{2} + pz^{2}}\\right)}}{2 \\sqrt[4]{px^{2} + py^{2} + pz^{2}}}\\end{matrix}\\right]$"
      ],
      "text/plain": [
       "⎡                                  √2⋅m⋅(px - ⅈ⋅py)                           \n",
       "⎢─────────────────────────────────────────────────────────────────────────────\n",
       "⎢      _________________________________________________________              \n",
       "⎢     ╱ ⎛        _________________⎞ ⎛        _________________⎞     __________\n",
       "⎢    ╱  ⎜       ╱   2     2     2 ⎟ ⎜       ╱   2     2     2 ⎟  4 ╱   2     2\n",
       "⎢2⋅╲╱   ⎝p₀ + ╲╱  px  + py  + pz  ⎠⋅⎝pz + ╲╱  px  + py  + pz  ⎠ ⋅╲╱  px  + py \n",
       "⎢                                                                             \n",
       "⎢                               ⎛        _________________⎞                   \n",
       "⎢                               ⎜       ╱   2     2     2 ⎟                   \n",
       "⎢                         -√2⋅m⋅⎝pz + ╲╱  px  + py  + pz  ⎠                   \n",
       "⎢─────────────────────────────────────────────────────────────────────────────\n",
       "⎢      _________________________________________________________              \n",
       "⎢     ╱ ⎛        _________________⎞ ⎛        _________________⎞     __________\n",
       "⎢    ╱  ⎜       ╱   2     2     2 ⎟ ⎜       ╱   2     2     2 ⎟  4 ╱   2     2\n",
       "⎢2⋅╲╱   ⎝p₀ + ╲╱  px  + py  + pz  ⎠⋅⎝pz + ╲╱  px  + py  + pz  ⎠ ⋅╲╱  px  + py \n",
       "⎢                                                                             \n",
       "⎢                       ⎛         _________________⎞                          \n",
       "⎢                       ⎜        ╱   2     2     2 ⎟                          \n",
       "⎢                    √2⋅⎝-p₀ - ╲╱  px  + py  + pz  ⎠⋅(px - ⅈ⋅py)              \n",
       "⎢─────────────────────────────────────────────────────────────────────────────\n",
       "⎢      _________________________________________________________              \n",
       "⎢     ╱ ⎛        _________________⎞ ⎛        _________________⎞     __________\n",
       "⎢    ╱  ⎜       ╱   2     2     2 ⎟ ⎜       ╱   2     2     2 ⎟  4 ╱   2     2\n",
       "⎢2⋅╲╱   ⎝p₀ + ╲╱  px  + py  + pz  ⎠⋅⎝pz + ╲╱  px  + py  + pz  ⎠ ⋅╲╱  px  + py \n",
       "⎢                                                                             \n",
       "⎢                 _________________________________________________________   \n",
       "⎢                ╱ ⎛        _________________⎞ ⎛        _________________⎞    \n",
       "⎢               ╱  ⎜       ╱   2     2     2 ⎟ ⎜       ╱   2     2     2 ⎟    \n",
       "⎢          √2⋅╲╱   ⎝p₀ + ╲╱  px  + py  + pz  ⎠⋅⎝pz + ╲╱  px  + py  + pz  ⎠    \n",
       "⎢          ────────────────────────────────────────────────────────────────   \n",
       "⎢                                    _________________                        \n",
       "⎢                                 4 ╱   2     2     2                         \n",
       "⎣                               2⋅╲╱  px  + py  + pz                          \n",
       "\n",
       "       ⎤\n",
       "───────⎥\n",
       "       ⎥\n",
       "_______⎥\n",
       "     2 ⎥\n",
       " + pz  ⎥\n",
       "       ⎥\n",
       "       ⎥\n",
       "       ⎥\n",
       "       ⎥\n",
       "───────⎥\n",
       "       ⎥\n",
       "_______⎥\n",
       "     2 ⎥\n",
       " + pz  ⎥\n",
       "       ⎥\n",
       "       ⎥\n",
       "       ⎥\n",
       "       ⎥\n",
       "───────⎥\n",
       "       ⎥\n",
       "_______⎥\n",
       "     2 ⎥\n",
       " + pz  ⎥\n",
       "       ⎥\n",
       "       ⎥\n",
       "       ⎥\n",
       "       ⎥\n",
       "       ⎥\n",
       "       ⎥\n",
       "       ⎥\n",
       "       ⎥\n",
       "       ⎦"
      ]
     },
     "metadata": {},
     "output_type": "display_data"
    },
    {
     "name": "stdout",
     "output_type": "stream",
     "text": [
      "\n",
      "ubar+:\n"
     ]
    },
    {
     "data": {
      "text/latex": [
       "$\\displaystyle \\left[\\begin{matrix}\\frac{\\sqrt{2} m \\left(pz + \\sqrt{px^{2} + py^{2} + pz^{2}}\\right)}{2 \\sqrt{\\left(p_{0} + \\sqrt{px^{2} + py^{2} + pz^{2}}\\right) \\left(pz + \\sqrt{px^{2} + py^{2} + pz^{2}}\\right)} \\sqrt[4]{px^{2} + py^{2} + pz^{2}}} & \\frac{\\sqrt{2} m \\left(px - i py\\right)}{2 \\sqrt{\\left(p_{0} + \\sqrt{px^{2} + py^{2} + pz^{2}}\\right) \\left(pz + \\sqrt{px^{2} + py^{2} + pz^{2}}\\right)} \\sqrt[4]{px^{2} + py^{2} + pz^{2}}} & - \\frac{\\sqrt{2} \\sqrt{\\left(p_{0} + \\sqrt{px^{2} + py^{2} + pz^{2}}\\right) \\left(pz + \\sqrt{px^{2} + py^{2} + pz^{2}}\\right)}}{2 \\sqrt[4]{px^{2} + py^{2} + pz^{2}}} & \\frac{\\sqrt{2} \\left(- p_{0} - \\sqrt{px^{2} + py^{2} + pz^{2}}\\right) \\left(px - i py\\right)}{2 \\sqrt{\\left(p_{0} + \\sqrt{px^{2} + py^{2} + pz^{2}}\\right) \\left(pz + \\sqrt{px^{2} + py^{2} + pz^{2}}\\right)} \\sqrt[4]{px^{2} + py^{2} + pz^{2}}}\\end{matrix}\\right]$"
      ],
      "text/plain": [
       "⎡                                                                             \n",
       "⎢                               ⎛        _________________⎞                   \n",
       "⎢                               ⎜       ╱   2     2     2 ⎟                   \n",
       "⎢                          √2⋅m⋅⎝pz + ╲╱  px  + py  + pz  ⎠                   \n",
       "⎢─────────────────────────────────────────────────────────────────────────────\n",
       "⎢      _________________________________________________________              \n",
       "⎢     ╱ ⎛        _________________⎞ ⎛        _________________⎞     __________\n",
       "⎢    ╱  ⎜       ╱   2     2     2 ⎟ ⎜       ╱   2     2     2 ⎟  4 ╱   2     2\n",
       "⎣2⋅╲╱   ⎝p₀ + ╲╱  px  + py  + pz  ⎠⋅⎝pz + ╲╱  px  + py  + pz  ⎠ ⋅╲╱  px  + py \n",
       "\n",
       "                                                                              \n",
       "                                                                              \n",
       "                                                                              \n",
       "                                           √2⋅m⋅(px - ⅈ⋅py)                   \n",
       "───────  ─────────────────────────────────────────────────────────────────────\n",
       "               _________________________________________________________      \n",
       "_______       ╱ ⎛        _________________⎞ ⎛        _________________⎞     __\n",
       "     2       ╱  ⎜       ╱   2     2     2 ⎟ ⎜       ╱   2     2     2 ⎟  4 ╱  \n",
       " + pz    2⋅╲╱   ⎝p₀ + ╲╱  px  + py  + pz  ⎠⋅⎝pz + ╲╱  px  + py  + pz  ⎠ ⋅╲╱  p\n",
       "\n",
       "                         _____________________________________________________\n",
       "                        ╱ ⎛        _________________⎞ ⎛        _______________\n",
       "                       ╱  ⎜       ╱   2     2     2 ⎟ ⎜       ╱   2     2     \n",
       "                 -√2⋅╲╱   ⎝p₀ + ╲╱  px  + py  + pz  ⎠⋅⎝pz + ╲╱  px  + py  + pz\n",
       "───────────────  ─────────────────────────────────────────────────────────────\n",
       "                                            _________________                 \n",
       "_______________                          4 ╱   2     2     2                  \n",
       " 2     2     2                         2⋅╲╱  px  + py  + pz                   \n",
       "x  + py  + pz                                                                 \n",
       "\n",
       "____                                                                          \n",
       "__⎞                           ⎛         _________________⎞                    \n",
       "2 ⎟                           ⎜        ╱   2     2     2 ⎟                    \n",
       "  ⎠                        √2⋅⎝-p₀ - ╲╱  px  + py  + pz  ⎠⋅(px - ⅈ⋅py)        \n",
       "─────  ───────────────────────────────────────────────────────────────────────\n",
       "             _________________________________________________________        \n",
       "            ╱ ⎛        _________________⎞ ⎛        _________________⎞     ____\n",
       "           ╱  ⎜       ╱   2     2     2 ⎟ ⎜       ╱   2     2     2 ⎟  4 ╱   2\n",
       "       2⋅╲╱   ⎝p₀ + ╲╱  px  + py  + pz  ⎠⋅⎝pz + ╲╱  px  + py  + pz  ⎠ ⋅╲╱  px \n",
       "\n",
       "             ⎤\n",
       "             ⎥\n",
       "             ⎥\n",
       "             ⎥\n",
       "─────────────⎥\n",
       "             ⎥\n",
       "_____________⎥\n",
       "     2     2 ⎥\n",
       " + py  + pz  ⎦"
      ]
     },
     "metadata": {},
     "output_type": "display_data"
    },
    {
     "name": "stdout",
     "output_type": "stream",
     "text": [
      "\n",
      "ubar-:\n"
     ]
    },
    {
     "data": {
      "text/latex": [
       "$\\displaystyle \\left[\\begin{matrix}\\frac{\\sqrt{2} \\left(p_{0} + \\sqrt{px^{2} + py^{2} + pz^{2}}\\right) \\left(px + i py\\right)}{2 \\sqrt{\\left(p_{0} + \\sqrt{px^{2} + py^{2} + pz^{2}}\\right) \\left(pz + \\sqrt{px^{2} + py^{2} + pz^{2}}\\right)} \\sqrt[4]{px^{2} + py^{2} + pz^{2}}} & - \\frac{\\sqrt{2} \\sqrt{\\left(p_{0} + \\sqrt{px^{2} + py^{2} + pz^{2}}\\right) \\left(pz + \\sqrt{px^{2} + py^{2} + pz^{2}}\\right)}}{2 \\sqrt[4]{px^{2} + py^{2} + pz^{2}}} & - \\frac{\\sqrt{2} m \\left(px + i py\\right)}{2 \\sqrt{\\left(p_{0} + \\sqrt{px^{2} + py^{2} + pz^{2}}\\right) \\left(pz + \\sqrt{px^{2} + py^{2} + pz^{2}}\\right)} \\sqrt[4]{px^{2} + py^{2} + pz^{2}}} & \\frac{\\sqrt{2} m \\left(pz + \\sqrt{px^{2} + py^{2} + pz^{2}}\\right)}{2 \\sqrt{\\left(p_{0} + \\sqrt{px^{2} + py^{2} + pz^{2}}\\right) \\left(pz + \\sqrt{px^{2} + py^{2} + pz^{2}}\\right)} \\sqrt[4]{px^{2} + py^{2} + pz^{2}}}\\end{matrix}\\right]$"
      ],
      "text/plain": [
       "⎡                                                                             \n",
       "⎢                        ⎛        _________________⎞                          \n",
       "⎢                        ⎜       ╱   2     2     2 ⎟                          \n",
       "⎢                     √2⋅⎝p₀ + ╲╱  px  + py  + pz  ⎠⋅(px + ⅈ⋅py)              \n",
       "⎢─────────────────────────────────────────────────────────────────────────────\n",
       "⎢      _________________________________________________________              \n",
       "⎢     ╱ ⎛        _________________⎞ ⎛        _________________⎞     __________\n",
       "⎢    ╱  ⎜       ╱   2     2     2 ⎟ ⎜       ╱   2     2     2 ⎟  4 ╱   2     2\n",
       "⎣2⋅╲╱   ⎝p₀ + ╲╱  px  + py  + pz  ⎠⋅⎝pz + ╲╱  px  + py  + pz  ⎠ ⋅╲╱  px  + py \n",
       "\n",
       "                 _________________________________________________________    \n",
       "                ╱ ⎛        _________________⎞ ⎛        _________________⎞     \n",
       "               ╱  ⎜       ╱   2     2     2 ⎟ ⎜       ╱   2     2     2 ⎟     \n",
       "         -√2⋅╲╱   ⎝p₀ + ╲╱  px  + py  + pz  ⎠⋅⎝pz + ╲╱  px  + py  + pz  ⎠     \n",
       "───────  ──────────────────────────────────────────────────────────────────  ─\n",
       "                                    _________________                         \n",
       "_______                          4 ╱   2     2     2                          \n",
       "     2                         2⋅╲╱  px  + py  + pz                           \n",
       " + pz                                                                        2\n",
       "\n",
       "                                                                              \n",
       "                                                                              \n",
       "                                                                              \n",
       "                                -√2⋅m⋅(px + ⅈ⋅py)                             \n",
       "──────────────────────────────────────────────────────────────────────────────\n",
       "     _________________________________________________________                \n",
       "    ╱ ⎛        _________________⎞ ⎛        _________________⎞     ____________\n",
       "   ╱  ⎜       ╱   2     2     2 ⎟ ⎜       ╱   2     2     2 ⎟  4 ╱   2     2  \n",
       "⋅╲╱   ⎝p₀ + ╲╱  px  + py  + pz  ⎠⋅⎝pz + ╲╱  px  + py  + pz  ⎠ ⋅╲╱  px  + py  +\n",
       "\n",
       "                                                                              \n",
       "                                      ⎛        _________________⎞             \n",
       "                                      ⎜       ╱   2     2     2 ⎟             \n",
       "                                 √2⋅m⋅⎝pz + ╲╱  px  + py  + pz  ⎠             \n",
       "─────  ───────────────────────────────────────────────────────────────────────\n",
       "             _________________________________________________________        \n",
       "_____       ╱ ⎛        _________________⎞ ⎛        _________________⎞     ____\n",
       "   2       ╱  ⎜       ╱   2     2     2 ⎟ ⎜       ╱   2     2     2 ⎟  4 ╱   2\n",
       " pz    2⋅╲╱   ⎝p₀ + ╲╱  px  + py  + pz  ⎠⋅⎝pz + ╲╱  px  + py  + pz  ⎠ ⋅╲╱  px \n",
       "\n",
       "             ⎤\n",
       "             ⎥\n",
       "             ⎥\n",
       "             ⎥\n",
       "─────────────⎥\n",
       "             ⎥\n",
       "_____________⎥\n",
       "     2     2 ⎥\n",
       " + py  + pz  ⎦"
      ]
     },
     "metadata": {},
     "output_type": "display_data"
    },
    {
     "name": "stdout",
     "output_type": "stream",
     "text": [
      "\n",
      "Vertex function:\n"
     ]
    },
    {
     "data": {
      "text/latex": [
       "$\\displaystyle \\left[\\begin{matrix}- 2 g_{L} \\psi_{1 2} \\psi_{2 4} - 2 g_{R} \\psi_{1 3} \\psi_{2 1}\\\\- 2 g_{L} \\psi_{1 1} \\psi_{2 3} - 2 g_{R} \\psi_{1 4} \\psi_{2 2}\\\\2 g_{L} \\psi_{1 1} \\psi_{2 4} - 2 g_{R} \\psi_{1 3} \\psi_{2 2}\\\\2 g_{L} \\psi_{1 2} \\psi_{2 3} - 2 g_{R} \\psi_{1 4} \\psi_{2 1}\\end{matrix}\\right]$"
      ],
      "text/plain": [
       "⎡-2⋅g_L⋅ψ₁ ₂⋅ψ₂ ₄ - 2⋅g_R⋅ψ₁ ₃⋅ψ₂ ₁⎤\n",
       "⎢                                  ⎥\n",
       "⎢-2⋅g_L⋅ψ₁ ₁⋅ψ₂ ₃ - 2⋅g_R⋅ψ₁ ₄⋅ψ₂ ₂⎥\n",
       "⎢                                  ⎥\n",
       "⎢2⋅g_L⋅ψ₁ ₁⋅ψ₂ ₄ - 2⋅g_R⋅ψ₁ ₃⋅ψ₂ ₂ ⎥\n",
       "⎢                                  ⎥\n",
       "⎣2⋅g_L⋅ψ₁ ₂⋅ψ₂ ₃ - 2⋅g_R⋅ψ₁ ₄⋅ψ₂ ₁ ⎦"
      ]
     },
     "metadata": {},
     "output_type": "display_data"
    },
    {
     "name": "stdout",
     "output_type": "stream",
     "text": [
      "\n",
      "Spinor from b:\n"
     ]
    },
    {
     "data": {
      "text/latex": [
       "$\\displaystyle \\left[\\begin{matrix}\\psi_{1} \\left(\\left(P_{1} - P_{4}\\right) \\left(b_{1} + b_{4}\\right) - \\left(P_{2} - i P_{3}\\right) \\left(b_{2} + i b_{3}\\right)\\right) + \\psi_{2} \\left(\\left(P_{1} - P_{4}\\right) \\left(b_{2} - i b_{3}\\right) - \\left(P_{2} - i P_{3}\\right) \\left(b_{1} - b_{4}\\right)\\right)\\\\\\psi_{1} \\left(\\left(P_{1} + P_{4}\\right) \\left(b_{2} + i b_{3}\\right) - \\left(P_{2} + i P_{3}\\right) \\left(b_{1} + b_{4}\\right)\\right) + \\psi_{2} \\left(\\left(P_{1} + P_{4}\\right) \\left(b_{1} - b_{4}\\right) - \\left(P_{2} + i P_{3}\\right) \\left(b_{2} - i b_{3}\\right)\\right)\\\\m \\left(- \\psi_{1} \\left(b_{1} + b_{4}\\right) - \\psi_{2} \\left(b_{2} - i b_{3}\\right)\\right)\\\\m \\left(- \\psi_{1} \\left(b_{2} + i b_{3}\\right) - \\psi_{2} \\left(b_{1} - b_{4}\\right)\\right)\\end{matrix}\\right]$"
      ],
      "text/plain": [
       "⎡ψ₁⋅((P₁ - P₄)⋅(b₁ + b₄) - (P₂ - ⅈ⋅P₃)⋅(b₂ + ⅈ⋅b₃)) + ψ₂⋅((P₁ - P₄)⋅(b₂ - ⅈ⋅b₃\n",
       "⎢                                                                             \n",
       "⎢ψ₁⋅((P₁ + P₄)⋅(b₂ + ⅈ⋅b₃) - (P₂ + ⅈ⋅P₃)⋅(b₁ + b₄)) + ψ₂⋅((P₁ + P₄)⋅(b₁ - b₄) \n",
       "⎢                                                                             \n",
       "⎢                                  m⋅(-ψ₁⋅(b₁ + b₄) - ψ₂⋅(b₂ - ⅈ⋅b₃))         \n",
       "⎢                                                                             \n",
       "⎣                                  m⋅(-ψ₁⋅(b₂ + ⅈ⋅b₃) - ψ₂⋅(b₁ - b₄))         \n",
       "\n",
       ") - (P₂ - ⅈ⋅P₃)⋅(b₁ - b₄))⎤\n",
       "                          ⎥\n",
       "- (P₂ + ⅈ⋅P₃)⋅(b₂ - ⅈ⋅b₃))⎥\n",
       "                          ⎥\n",
       "                          ⎥\n",
       "                          ⎥\n",
       "                          ⎦"
      ]
     },
     "metadata": {},
     "output_type": "display_data"
    },
    {
     "name": "stdout",
     "output_type": "stream",
     "text": [
      "\n",
      "Antispinor from b:\n"
     ]
    },
    {
     "data": {
      "text/latex": [
       "$\\displaystyle \\left[\\begin{matrix}- m \\left(\\psi_{3} \\left(b_{1} + b_{4}\\right) + \\psi_{4} \\left(b_{2} + i b_{3}\\right)\\right)\\\\- m \\left(\\psi_{3} \\left(b_{2} - i b_{3}\\right) + \\psi_{4} \\left(b_{1} - b_{4}\\right)\\right)\\\\\\left(P_{1} + P_{4}\\right) \\left(\\psi_{3} \\left(b_{1} + b_{4}\\right) + \\psi_{4} \\left(b_{2} + i b_{3}\\right)\\right) + \\left(P_{2} - i P_{3}\\right) \\left(\\psi_{3} \\left(b_{2} - i b_{3}\\right) + \\psi_{4} \\left(b_{1} - b_{4}\\right)\\right)\\\\\\left(P_{1} - P_{4}\\right) \\left(\\psi_{3} \\left(b_{2} - i b_{3}\\right) + \\psi_{4} \\left(b_{1} - b_{4}\\right)\\right) + \\left(P_{2} + i P_{3}\\right) \\left(\\psi_{3} \\left(b_{1} + b_{4}\\right) + \\psi_{4} \\left(b_{2} + i b_{3}\\right)\\right)\\end{matrix}\\right]$"
      ],
      "text/plain": [
       "⎡                          -m⋅(ψ₃⋅(b₁ + b₄) + ψ₄⋅(b₂ + ⅈ⋅b₃))                 \n",
       "⎢                                                                             \n",
       "⎢                          -m⋅(ψ₃⋅(b₂ - ⅈ⋅b₃) + ψ₄⋅(b₁ - b₄))                 \n",
       "⎢                                                                             \n",
       "⎢(P₁ + P₄)⋅(ψ₃⋅(b₁ + b₄) + ψ₄⋅(b₂ + ⅈ⋅b₃)) + (P₂ - ⅈ⋅P₃)⋅(ψ₃⋅(b₂ - ⅈ⋅b₃) + ψ₄⋅\n",
       "⎢                                                                             \n",
       "⎣(P₁ - P₄)⋅(ψ₃⋅(b₂ - ⅈ⋅b₃) + ψ₄⋅(b₁ - b₄)) + (P₂ + ⅈ⋅P₃)⋅(ψ₃⋅(b₁ + b₄) + ψ₄⋅(b\n",
       "\n",
       "          ⎤\n",
       "          ⎥\n",
       "          ⎥\n",
       "          ⎥\n",
       "(b₁ - b₄))⎥\n",
       "          ⎥\n",
       "₂ + ⅈ⋅b₃))⎦"
      ]
     },
     "metadata": {},
     "output_type": "display_data"
    }
   ],
   "source": [
    "# Example: calculate and show polarization vectors\n",
    "eps_minus, eps_plus, eps_zero = sf.polarization_vectors()\n",
    "print(\"ε-:\")\n",
    "display(eps_minus)\n",
    "print(\"\\nε+:\")\n",
    "display(eps_plus)\n",
    "print(\"\\nε0:\")\n",
    "display(eps_zero)\n",
    "\n",
    "# Example: calculate and Calculate spinors\n",
    "u_plus = sf.spinor_u('+')\n",
    "u_minus = sf.spinor_u('-')\n",
    "ubar_plus = sf.spinor_ubar('+')\n",
    "ubar_minus = sf.spinor_ubar('-')\n",
    "\n",
    "print(\"\\nu+:\")\n",
    "display(u_plus)\n",
    "print(\"\\nu-:\")\n",
    "display(u_minus)\n",
    "print(\"\\nubar+:\")\n",
    "display(ubar_plus)\n",
    "print(\"\\nubar-:\")\n",
    "display(ubar_minus)\n",
    "\n",
    "# Example: calculate and  Calculate vertex function\n",
    "psi1 = sp.Matrix(sp.symbols('psi1_1:5'))\n",
    "psi2 = sp.Matrix(sp.symbols('psi2_1:5'))\n",
    "\n",
    "V = DS.ffb(psi1, psi2)\n",
    "print(\"\\nVertex function:\")\n",
    "display(V)\n",
    "\n",
    "# Example: calculate and  Calculate spinor from b\n",
    "P = sp.Matrix(sp.symbols('P1:5'))\n",
    "b = sp.Matrix(sp.symbols('b1:5'))\n",
    "psi = sp.Matrix(sp.symbols('psi1:5'))\n",
    "u_from_bR = DS.fbf(P, b, psi, antispinor=False)\n",
    "u_from_bL = DS.fbf(P, b, psi, antispinor=True)\n",
    "print(\"\\nSpinor from b:\")\n",
    "display(u_from_bR)\n",
    "print(\"\\nAntispinor from b:\")\n",
    "display(u_from_bL)"
   ]
  },
  {
   "cell_type": "code",
   "execution_count": 3,
   "metadata": {},
   "outputs": [
    {
     "ename": "AttributeError",
     "evalue": "'standard_formulas' object has no attribute 'Dyson_Schwinger'",
     "output_type": "error",
     "traceback": [
      "\u001b[1;31m---------------------------------------------------------------------------\u001b[0m",
      "\u001b[1;31mAttributeError\u001b[0m                            Traceback (most recent call last)",
      "Cell \u001b[1;32mIn[3], line 9\u001b[0m\n\u001b[0;32m      6\u001b[0m u3 \u001b[38;5;241m=\u001b[39m sf\u001b[38;5;241m.\u001b[39mspinor_u(\u001b[38;5;124m'\u001b[39m\u001b[38;5;124m-\u001b[39m\u001b[38;5;124m'\u001b[39m)\n\u001b[0;32m      7\u001b[0m u4 \u001b[38;5;241m=\u001b[39m sf\u001b[38;5;241m.\u001b[39mspinor_u(\u001b[38;5;124m'\u001b[39m\u001b[38;5;124m+\u001b[39m\u001b[38;5;124m'\u001b[39m)\n\u001b[1;32m----> 9\u001b[0m res \u001b[38;5;241m=\u001b[39m \u001b[43msf\u001b[49m\u001b[38;5;241;43m.\u001b[39;49m\u001b[43mDyson_Schwinger\u001b[49m(incoming_particles, u1, u2, outgoing_particles, u3, u4)\n",
      "\u001b[1;31mAttributeError\u001b[0m: 'standard_formulas' object has no attribute 'Dyson_Schwinger'"
     ]
    }
   ],
   "source": [
    "incoming_particles = \"e+e-\"\n",
    "outgoing_particles = \"e+e-\"\n",
    "\n",
    "u1 = sf.spinor_u('+')\n",
    "u2 = sf.spinor_u('-')\n",
    "u3 = sf.spinor_u('-')\n",
    "u4 = sf.spinor_u('+')\n",
    "\n",
    "res = sf.Dyson_Schwinger(incoming_particles, u1, u2, outgoing_particles, u3, u4)"
   ]
  },
  {
   "cell_type": "code",
   "execution_count": null,
   "metadata": {},
   "outputs": [],
   "source": []
  }
 ],
 "metadata": {
  "kernelspec": {
   "display_name": "Python 3",
   "language": "python",
   "name": "python3"
  },
  "language_info": {
   "codemirror_mode": {
    "name": "ipython",
    "version": 3
   },
   "file_extension": ".py",
   "mimetype": "text/x-python",
   "name": "python",
   "nbconvert_exporter": "python",
   "pygments_lexer": "ipython3",
   "version": "3.12.2"
  }
 },
 "nbformat": 4,
 "nbformat_minor": 2
}
