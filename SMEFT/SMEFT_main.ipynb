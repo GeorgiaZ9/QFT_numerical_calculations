{
 "cells": [
  {
   "cell_type": "code",
   "execution_count": 1,
   "metadata": {},
   "outputs": [],
   "source": [
    "import os\n",
    "import sys\n",
    "import sympy as sp\n",
    "from sympy import I, sqrt, conjugate\n",
    "import matplotlib.pyplot as plt\n",
    "from IPython.display import Math, display\n",
    "from sympy import init_printing\n",
    "\n",
    "# Import libraries from their folders\n",
    "from SMEFT_library import SMEFT\n",
    "import standard_formulas as SF\n",
    "\n",
    "sp.init_printing(use_unicode=True, use_latex='mathjax')\n",
    "\n",
    "DS = SMEFT()\n",
    "sf = SF.standard_formulas()"
   ]
  },
  {
   "cell_type": "code",
   "execution_count": 2,
   "metadata": {},
   "outputs": [],
   "source": [
    "# Define 4-vectors with non-zero components\n",
    "psi1_nonZero_comp = sp.Matrix(sp.symbols('psi1_1:5'))\n",
    "psi2_nonZero_comp = sp.Matrix(sp.symbols('psi2_1:5'))\n",
    "\n",
    "# Define 4-vectors with only 1 non-zero component\n",
    "psi1_1 = sp.Symbol('psi1_1')\n",
    "psi2_1 = sp.Symbol('psi2_1')\n",
    "b1 = sp.Symbol('b')\n",
    "psi1 = sp.Matrix([psi1_1, 0, 0, 0])\n",
    "psi2 = sp.Matrix([psi2_1, 0, 0, 0])\n",
    "\n",
    "# Define symbolically the 4-momentum\n",
    "P = sp.Matrix(sp.symbols('P0:4'))\n",
    "# Define symbolically the 4-vector of the boson\n",
    "b = sp.Matrix([b1, 0,0,0])\n",
    "# Define symbolically a gluon\n",
    "v = sp.Matrix(sp.symbols('v1:5'))"
   ]
  },
  {
   "cell_type": "code",
   "execution_count": 3,
   "metadata": {},
   "outputs": [
    {
     "name": "stdout",
     "output_type": "stream",
     "text": [
      "\n",
      " Interaction ( t, tbar, H ) where the notation iin the particles wavefunctions is (ψ1, ψ2, b) correspondingly. The vertex is considered:  ( PL_*gL + PR_*gR )\n",
      "\n",
      " uH coupling matrix:\n"
     ]
    },
    {
     "data": {
      "text/latex": [
       "$\\displaystyle \\left[\\begin{matrix}\\frac{\\sqrt{2} i C^{u\\phi} g_{R} v^{2}}{2} & 0 & 0 & 0\\\\0 & \\frac{\\sqrt{2} i C^{u\\phi} g_{R} v^{2}}{2} & 0 & 0\\\\0 & 0 & \\frac{\\sqrt{2} i C^{u\\phi} g_{L} v^{2}}{2} & 0\\\\0 & 0 & 0 & \\frac{\\sqrt{2} i C^{u\\phi} g_{L} v^{2}}{2}\\end{matrix}\\right]$"
      ],
      "text/plain": [
       "⎡                     2                                                       \n",
       "⎢√2⋅ⅈ⋅C__{u\\phi}⋅g_R⋅v                                                        \n",
       "⎢──────────────────────            0                       0                  \n",
       "⎢          2                                                                  \n",
       "⎢                                                                             \n",
       "⎢                                             2                               \n",
       "⎢                        √2⋅ⅈ⋅C__{u\\phi}⋅g_R⋅v                                \n",
       "⎢          0             ──────────────────────            0                  \n",
       "⎢                                  2                                          \n",
       "⎢                                                                             \n",
       "⎢                                                                     2       \n",
       "⎢                                                √2⋅ⅈ⋅C__{u\\phi}⋅g_L⋅v        \n",
       "⎢          0                       0             ──────────────────────       \n",
       "⎢                                                          2                  \n",
       "⎢                                                                             \n",
       "⎢                                                                             \n",
       "⎢                                                                        √2⋅ⅈ⋅\n",
       "⎢          0                       0                       0             ─────\n",
       "⎣                                                                             \n",
       "\n",
       "                 ⎤\n",
       "                 ⎥\n",
       "     0           ⎥\n",
       "                 ⎥\n",
       "                 ⎥\n",
       "                 ⎥\n",
       "                 ⎥\n",
       "     0           ⎥\n",
       "                 ⎥\n",
       "                 ⎥\n",
       "                 ⎥\n",
       "                 ⎥\n",
       "     0           ⎥\n",
       "                 ⎥\n",
       "                 ⎥\n",
       "                2⎥\n",
       "C__{u\\phi}⋅g_L⋅v ⎥\n",
       "─────────────────⎥\n",
       "     2           ⎦"
      ]
     },
     "metadata": {},
     "output_type": "display_data"
    },
    {
     "name": "stdout",
     "output_type": "stream",
     "text": [
      "\n",
      " the output current for the process f + f -> B, in Lorentz representation, is:\n"
     ]
    },
    {
     "data": {
      "text/latex": [
       "$\\displaystyle \\left[\\begin{matrix}\\frac{\\sqrt{2} i C^{u\\phi} v^{2} \\left(g_{L} \\psi_{1 3} \\psi_{2 3} + g_{L} \\psi_{1 4} \\psi_{2 4} + g_{R} \\psi_{1 1} \\psi_{2 1} + g_{R} \\psi_{1 2} \\psi_{2 2}\\right)}{2}\\end{matrix}\\right]$"
      ],
      "text/plain": [
       "⎡                 2                                                           \n",
       "⎢√2⋅ⅈ⋅C__{u\\phi}⋅v ⋅(g_L⋅ψ₁ ₃⋅ψ₂ ₃ + g_L⋅ψ₁ ₄⋅ψ₂ ₄ + g_R⋅ψ₁ ₁⋅ψ₂ ₁ + g_R⋅ψ₁ ₂⋅\n",
       "⎢─────────────────────────────────────────────────────────────────────────────\n",
       "⎣                                        2                                    \n",
       "\n",
       "     ⎤\n",
       "ψ₂ ₂)⎥\n",
       "─────⎥\n",
       "     ⎦"
      ]
     },
     "metadata": {},
     "output_type": "display_data"
    },
    {
     "name": "stdout",
     "output_type": "stream",
     "text": [
      "\n",
      " the output current for the process B + f -> anti_f, , in Lorentz representation, is:\n"
     ]
    },
    {
     "data": {
      "text/latex": [
       "$\\displaystyle \\left[\\begin{matrix}\\frac{\\sqrt{2} i C^{u\\phi} b v^{2} \\left(- g_{L} \\psi_{1 3} \\left(P_{0} + P_{3}\\right) - g_{L} \\psi_{1 4} \\left(P_{1} - i P_{2}\\right) + g_{R} m \\psi_{1 1}\\right)}{2}\\\\\\frac{\\sqrt{2} i C^{u\\phi} b v^{2} \\left(- g_{L} \\psi_{1 3} \\left(P_{1} + i P_{2}\\right) - g_{L} \\psi_{1 4} \\left(P_{0} - P_{3}\\right) + g_{R} m \\psi_{1 2}\\right)}{2}\\\\\\frac{\\sqrt{2} i C^{u\\phi} b v^{2} \\left(g_{L} m \\psi_{1 3} - g_{R} \\psi_{1 1} \\left(P_{0} - P_{3}\\right) + g_{R} \\psi_{1 2} \\left(P_{1} - i P_{2}\\right)\\right)}{2}\\\\\\frac{\\sqrt{2} i C^{u\\phi} b v^{2} \\left(g_{L} m \\psi_{1 4} + g_{R} \\psi_{1 1} \\left(P_{1} + i P_{2}\\right) - g_{R} \\psi_{1 2} \\left(P_{0} + P_{3}\\right)\\right)}{2}\\end{matrix}\\right]$"
      ],
      "text/plain": [
       "⎡                   2                                                         \n",
       "⎢√2⋅ⅈ⋅C__{u\\phi}⋅b⋅v ⋅(-g_L⋅ψ₁ ₃⋅(P₀ + P₃) - g_L⋅ψ₁ ₄⋅(P₁ - ⅈ⋅P₂) + g_R⋅m⋅ψ₁ ₁\n",
       "⎢─────────────────────────────────────────────────────────────────────────────\n",
       "⎢                                      2                                      \n",
       "⎢                                                                             \n",
       "⎢                   2                                                         \n",
       "⎢√2⋅ⅈ⋅C__{u\\phi}⋅b⋅v ⋅(-g_L⋅ψ₁ ₃⋅(P₁ + ⅈ⋅P₂) - g_L⋅ψ₁ ₄⋅(P₀ - P₃) + g_R⋅m⋅ψ₁ ₂\n",
       "⎢─────────────────────────────────────────────────────────────────────────────\n",
       "⎢                                      2                                      \n",
       "⎢                                                                             \n",
       "⎢                   2                                                         \n",
       "⎢√2⋅ⅈ⋅C__{u\\phi}⋅b⋅v ⋅(g_L⋅m⋅ψ₁ ₃ - g_R⋅ψ₁ ₁⋅(P₀ - P₃) + g_R⋅ψ₁ ₂⋅(P₁ - ⅈ⋅P₂))\n",
       "⎢─────────────────────────────────────────────────────────────────────────────\n",
       "⎢                                      2                                      \n",
       "⎢                                                                             \n",
       "⎢                   2                                                         \n",
       "⎢√2⋅ⅈ⋅C__{u\\phi}⋅b⋅v ⋅(g_L⋅m⋅ψ₁ ₄ + g_R⋅ψ₁ ₁⋅(P₁ + ⅈ⋅P₂) - g_R⋅ψ₁ ₂⋅(P₀ + P₃))\n",
       "⎢─────────────────────────────────────────────────────────────────────────────\n",
       "⎣                                      2                                      \n",
       "\n",
       " ⎤\n",
       ")⎥\n",
       "─⎥\n",
       " ⎥\n",
       " ⎥\n",
       " ⎥\n",
       ")⎥\n",
       "─⎥\n",
       " ⎥\n",
       " ⎥\n",
       " ⎥\n",
       " ⎥\n",
       " ⎥\n",
       " ⎥\n",
       " ⎥\n",
       " ⎥\n",
       " ⎥\n",
       " ⎥\n",
       " ⎦"
      ]
     },
     "metadata": {},
     "output_type": "display_data"
    },
    {
     "name": "stdout",
     "output_type": "stream",
     "text": [
      "\n",
      " the output current for the process B + anti_f -> f, in Lorentz representation, is:\n"
     ]
    },
    {
     "data": {
      "text/latex": [
       "$\\displaystyle \\left[\\begin{matrix}\\frac{\\sqrt{2} i C^{u\\phi} b v^{2} \\left(g_{L} \\psi_{1 3} \\left(P_{0} - P_{3}\\right) - g_{L} \\psi_{1 4} \\left(P_{1} + i P_{2}\\right) + g_{R} m \\psi_{1 1}\\right)}{2}\\\\\\frac{\\sqrt{2} i C^{u\\phi} b v^{2} \\left(- g_{L} \\psi_{1 3} \\left(P_{1} - i P_{2}\\right) + g_{L} \\psi_{1 4} \\left(P_{0} + P_{3}\\right) + g_{R} m \\psi_{1 2}\\right)}{2}\\\\\\frac{\\sqrt{2} i C^{u\\phi} b v^{2} \\left(g_{L} m \\psi_{1 3} + g_{R} \\psi_{1 1} \\left(P_{0} + P_{3}\\right) + g_{R} \\psi_{1 2} \\left(P_{1} + i P_{2}\\right)\\right)}{2}\\\\\\frac{\\sqrt{2} i C^{u\\phi} b v^{2} \\left(g_{L} m \\psi_{1 4} + g_{R} \\psi_{1 1} \\left(P_{1} - i P_{2}\\right) + g_{R} \\psi_{1 2} \\left(P_{0} - P_{3}\\right)\\right)}{2}\\end{matrix}\\right]$"
      ],
      "text/plain": [
       "⎡                   2                                                         \n",
       "⎢√2⋅ⅈ⋅C__{u\\phi}⋅b⋅v ⋅(g_L⋅ψ₁ ₃⋅(P₀ - P₃) - g_L⋅ψ₁ ₄⋅(P₁ + ⅈ⋅P₂) + g_R⋅m⋅ψ₁ ₁)\n",
       "⎢─────────────────────────────────────────────────────────────────────────────\n",
       "⎢                                      2                                      \n",
       "⎢                                                                             \n",
       "⎢                   2                                                         \n",
       "⎢√2⋅ⅈ⋅C__{u\\phi}⋅b⋅v ⋅(-g_L⋅ψ₁ ₃⋅(P₁ - ⅈ⋅P₂) + g_L⋅ψ₁ ₄⋅(P₀ + P₃) + g_R⋅m⋅ψ₁ ₂\n",
       "⎢─────────────────────────────────────────────────────────────────────────────\n",
       "⎢                                      2                                      \n",
       "⎢                                                                             \n",
       "⎢                   2                                                         \n",
       "⎢√2⋅ⅈ⋅C__{u\\phi}⋅b⋅v ⋅(g_L⋅m⋅ψ₁ ₃ + g_R⋅ψ₁ ₁⋅(P₀ + P₃) + g_R⋅ψ₁ ₂⋅(P₁ + ⅈ⋅P₂))\n",
       "⎢─────────────────────────────────────────────────────────────────────────────\n",
       "⎢                                      2                                      \n",
       "⎢                                                                             \n",
       "⎢                   2                                                         \n",
       "⎢√2⋅ⅈ⋅C__{u\\phi}⋅b⋅v ⋅(g_L⋅m⋅ψ₁ ₄ + g_R⋅ψ₁ ₁⋅(P₁ - ⅈ⋅P₂) + g_R⋅ψ₁ ₂⋅(P₀ - P₃))\n",
       "⎢─────────────────────────────────────────────────────────────────────────────\n",
       "⎣                                      2                                      \n",
       "\n",
       " ⎤\n",
       " ⎥\n",
       " ⎥\n",
       " ⎥\n",
       " ⎥\n",
       " ⎥\n",
       ")⎥\n",
       "─⎥\n",
       " ⎥\n",
       " ⎥\n",
       " ⎥\n",
       " ⎥\n",
       " ⎥\n",
       " ⎥\n",
       " ⎥\n",
       " ⎥\n",
       " ⎥\n",
       " ⎥\n",
       " ⎦"
      ]
     },
     "metadata": {},
     "output_type": "display_data"
    },
    {
     "name": "stdout",
     "output_type": "stream",
     "text": [
      "\n",
      " the output current for the process f + f -> B, in lightcone representation, is:\n"
     ]
    },
    {
     "data": {
      "text/latex": [
       "$\\displaystyle \\left[\\begin{matrix}\\frac{\\sqrt{2} i C^{u\\phi} g_{R} \\psi_{1 1} \\psi_{2 1} v^{2}}{2}\\end{matrix}\\right]$"
      ],
      "text/plain": [
       "⎡                               2⎤\n",
       "⎢√2⋅ⅈ⋅C__{u\\phi}⋅g_R⋅ψ₁ ₁⋅ψ₂ ₁⋅v ⎥\n",
       "⎢────────────────────────────────⎥\n",
       "⎣               2                ⎦"
      ]
     },
     "metadata": {},
     "output_type": "display_data"
    },
    {
     "name": "stdout",
     "output_type": "stream",
     "text": [
      "\n",
      " the output current for the process B + f -> anti_f, in lightcone representation, is:\n"
     ]
    },
    {
     "data": {
      "text/latex": [
       "$\\displaystyle \\left[\\begin{matrix}\\frac{\\sqrt{2} i C^{u\\phi} b v^{2} \\left(- P_{0} g_{L} \\psi_{1 3} - P_{3} g_{L} \\psi_{1 4} + g_{R} m \\psi_{1 1}\\right)}{2}\\\\\\frac{\\sqrt{2} i C^{u\\phi} b v^{2} \\left(- P_{1} g_{L} \\psi_{1 4} - P_{2} g_{L} \\psi_{1 3} + g_{R} m \\psi_{1 2}\\right)}{2}\\\\\\frac{\\sqrt{2} i C^{u\\phi} b v^{2} \\left(- P_{1} g_{R} \\psi_{1 1} + P_{3} g_{R} \\psi_{1 2} + g_{L} m \\psi_{1 3}\\right)}{2}\\\\\\frac{\\sqrt{2} i C^{u\\phi} b v^{2} \\left(- P_{0} g_{R} \\psi_{1 2} + P_{2} g_{R} \\psi_{1 1} + g_{L} m \\psi_{1 4}\\right)}{2}\\end{matrix}\\right]$"
      ],
      "text/plain": [
       "⎡                   2                                          ⎤\n",
       "⎢√2⋅ⅈ⋅C__{u\\phi}⋅b⋅v ⋅(-P₀⋅g_L⋅ψ₁ ₃ - P₃⋅g_L⋅ψ₁ ₄ + g_R⋅m⋅ψ₁ ₁)⎥\n",
       "⎢──────────────────────────────────────────────────────────────⎥\n",
       "⎢                              2                               ⎥\n",
       "⎢                                                              ⎥\n",
       "⎢                   2                                          ⎥\n",
       "⎢√2⋅ⅈ⋅C__{u\\phi}⋅b⋅v ⋅(-P₁⋅g_L⋅ψ₁ ₄ - P₂⋅g_L⋅ψ₁ ₃ + g_R⋅m⋅ψ₁ ₂)⎥\n",
       "⎢──────────────────────────────────────────────────────────────⎥\n",
       "⎢                              2                               ⎥\n",
       "⎢                                                              ⎥\n",
       "⎢                   2                                          ⎥\n",
       "⎢√2⋅ⅈ⋅C__{u\\phi}⋅b⋅v ⋅(-P₁⋅g_R⋅ψ₁ ₁ + P₃⋅g_R⋅ψ₁ ₂ + g_L⋅m⋅ψ₁ ₃)⎥\n",
       "⎢──────────────────────────────────────────────────────────────⎥\n",
       "⎢                              2                               ⎥\n",
       "⎢                                                              ⎥\n",
       "⎢                   2                                          ⎥\n",
       "⎢√2⋅ⅈ⋅C__{u\\phi}⋅b⋅v ⋅(-P₀⋅g_R⋅ψ₁ ₂ + P₂⋅g_R⋅ψ₁ ₁ + g_L⋅m⋅ψ₁ ₄)⎥\n",
       "⎢──────────────────────────────────────────────────────────────⎥\n",
       "⎣                              2                               ⎦"
      ]
     },
     "metadata": {},
     "output_type": "display_data"
    },
    {
     "name": "stdout",
     "output_type": "stream",
     "text": [
      "\n",
      " the output current for the process B + anti_f -> f, in lightcone representation, is:\n"
     ]
    },
    {
     "data": {
      "text/latex": [
       "$\\displaystyle \\left[\\begin{matrix}\\frac{\\sqrt{2} i C^{u\\phi} b v^{2} \\left(P_{1} g_{L} \\psi_{1 3} - P_{2} g_{L} \\psi_{1 4} + g_{R} m \\psi_{1 1}\\right)}{2}\\\\\\frac{\\sqrt{2} i C^{u\\phi} b v^{2} \\left(P_{0} g_{L} \\psi_{1 4} - P_{3} g_{L} \\psi_{1 3} + g_{R} m \\psi_{1 2}\\right)}{2}\\\\\\frac{\\sqrt{2} i C^{u\\phi} b v^{2} \\left(P_{0} g_{R} \\psi_{1 1} + P_{2} g_{R} \\psi_{1 2} + g_{L} m \\psi_{1 3}\\right)}{2}\\\\\\frac{\\sqrt{2} i C^{u\\phi} b v^{2} \\left(P_{1} g_{R} \\psi_{1 2} + P_{3} g_{R} \\psi_{1 1} + g_{L} m \\psi_{1 4}\\right)}{2}\\end{matrix}\\right]$"
      ],
      "text/plain": [
       "⎡                   2                                         ⎤\n",
       "⎢√2⋅ⅈ⋅C__{u\\phi}⋅b⋅v ⋅(P₁⋅g_L⋅ψ₁ ₃ - P₂⋅g_L⋅ψ₁ ₄ + g_R⋅m⋅ψ₁ ₁)⎥\n",
       "⎢─────────────────────────────────────────────────────────────⎥\n",
       "⎢                              2                              ⎥\n",
       "⎢                                                             ⎥\n",
       "⎢                   2                                         ⎥\n",
       "⎢√2⋅ⅈ⋅C__{u\\phi}⋅b⋅v ⋅(P₀⋅g_L⋅ψ₁ ₄ - P₃⋅g_L⋅ψ₁ ₃ + g_R⋅m⋅ψ₁ ₂)⎥\n",
       "⎢─────────────────────────────────────────────────────────────⎥\n",
       "⎢                              2                              ⎥\n",
       "⎢                                                             ⎥\n",
       "⎢                   2                                         ⎥\n",
       "⎢√2⋅ⅈ⋅C__{u\\phi}⋅b⋅v ⋅(P₀⋅g_R⋅ψ₁ ₁ + P₂⋅g_R⋅ψ₁ ₂ + g_L⋅m⋅ψ₁ ₃)⎥\n",
       "⎢─────────────────────────────────────────────────────────────⎥\n",
       "⎢                              2                              ⎥\n",
       "⎢                                                             ⎥\n",
       "⎢                   2                                         ⎥\n",
       "⎢√2⋅ⅈ⋅C__{u\\phi}⋅b⋅v ⋅(P₁⋅g_R⋅ψ₁ ₂ + P₃⋅g_R⋅ψ₁ ₁ + g_L⋅m⋅ψ₁ ₄)⎥\n",
       "⎢─────────────────────────────────────────────────────────────⎥\n",
       "⎣                              2                              ⎦"
      ]
     },
     "metadata": {},
     "output_type": "display_data"
    }
   ],
   "source": [
    "# Test uH operator\n",
    "uH = DS.uH_operator()\n",
    "\n",
    "# ψ_Bar* uH* ψ result iin Lorentz representation\n",
    "out_current_1a = DS.calc_coupling_ff(psi1_nonZero_comp, psi2_nonZero_comp, uH)\n",
    "out_current_1b = DS.calc_coupling_bf(P, b1, psi1_nonZero_comp, uH, representation=\"Lorentz\")\n",
    "out_current_1c = DS.calc_coupling_bf(P, b1, psi1_nonZero_comp, uH, antispinor=True, representation=\"Lorentz\")\n",
    "\n",
    "# ψ_Bar* uH* ψ result iin lightcone representation\n",
    "out_current_1a_light = DS.calc_coupling_ff(psi1, psi2, uH)\n",
    "out_current_1b_light = DS.calc_coupling_bf(P, b1, psi1_nonZero_comp, uH, representation=\"lightcone\")\n",
    "out_current_1c_light = DS.calc_coupling_bf(P, b1, psi1_nonZero_comp, uH, antispinor=True, representation=\"lightcone\")\n",
    "\n",
    "print(\"\\n Interaction ( t, tbar, H ) where the notation iin the particles wavefunctions is (ψ1, ψ2, b) correspondingly. The vertex is considered:  ( PL_*gL + PR_*gR )\")\n",
    "print(\"\\n uH coupling matrix:\")\n",
    "display(uH)\n",
    "\n",
    "print(\"\\n the output current for the process f + f -> B, in Lorentz representation, is:\")\n",
    "display(out_current_1a)\n",
    "\n",
    "print(\"\\n the output current for the process B + f -> anti_f, , in Lorentz representation, is:\")\n",
    "display(out_current_1b)\n",
    "\n",
    "print(\"\\n the output current for the process B + anti_f -> f, in Lorentz representation, is:\")\n",
    "display(out_current_1c)\n",
    "\n",
    "print(\"\\n the output current for the process f + f -> B, in lightcone representation, is:\")\n",
    "display(out_current_1a_light)\n",
    "\n",
    "print(\"\\n the output current for the process B + f -> anti_f, in lightcone representation, is:\")\n",
    "display(out_current_1b_light)\n",
    "\n",
    "print(\"\\n the output current for the process B + anti_f -> f, in lightcone representation, is:\")\n",
    "display(out_current_1c_light)"
   ]
  },
  {
   "cell_type": "code",
   "execution_count": 4,
   "metadata": {},
   "outputs": [
    {
     "name": "stdout",
     "output_type": "stream",
     "text": [
      "\n",
      " the output current for the process B + f -> anti_f, in lightcone representation without considering the propagator, is:\n"
     ]
    },
    {
     "data": {
      "text/latex": [
       "$\\displaystyle \\left[\\begin{matrix}\\frac{\\sqrt{2} i C^{u\\phi} b g_{R} \\psi_{1 1} v^{2}}{2}\\\\\\frac{\\sqrt{2} i C^{u\\phi} b g_{R} \\psi_{1 2} v^{2}}{2}\\\\\\frac{\\sqrt{2} i C^{u\\phi} b g_{L} \\psi_{1 3} v^{2}}{2}\\\\\\frac{\\sqrt{2} i C^{u\\phi} b g_{L} \\psi_{1 4} v^{2}}{2}\\end{matrix}\\right]$"
      ],
      "text/plain": [
       "⎡                            2⎤\n",
       "⎢√2⋅ⅈ⋅C__{u\\phi}⋅b⋅g_R⋅ψ₁ ₁⋅v ⎥\n",
       "⎢─────────────────────────────⎥\n",
       "⎢              2              ⎥\n",
       "⎢                             ⎥\n",
       "⎢                            2⎥\n",
       "⎢√2⋅ⅈ⋅C__{u\\phi}⋅b⋅g_R⋅ψ₁ ₂⋅v ⎥\n",
       "⎢─────────────────────────────⎥\n",
       "⎢              2              ⎥\n",
       "⎢                             ⎥\n",
       "⎢                            2⎥\n",
       "⎢√2⋅ⅈ⋅C__{u\\phi}⋅b⋅g_L⋅ψ₁ ₃⋅v ⎥\n",
       "⎢─────────────────────────────⎥\n",
       "⎢              2              ⎥\n",
       "⎢                             ⎥\n",
       "⎢                            2⎥\n",
       "⎢√2⋅ⅈ⋅C__{u\\phi}⋅b⋅g_L⋅ψ₁ ₄⋅v ⎥\n",
       "⎢─────────────────────────────⎥\n",
       "⎣              2              ⎦"
      ]
     },
     "metadata": {},
     "output_type": "display_data"
    },
    {
     "name": "stdout",
     "output_type": "stream",
     "text": [
      "\n",
      " the output current for the process B + anti_f -> f, in lightcone representation without considering the propagator, is:\n"
     ]
    },
    {
     "data": {
      "text/latex": [
       "$\\displaystyle \\left[\\begin{matrix}\\frac{\\sqrt{2} i C^{u\\phi} b g_{R} \\psi_{1 1} v^{2}}{2}\\\\\\frac{\\sqrt{2} i C^{u\\phi} b g_{R} \\psi_{1 2} v^{2}}{2}\\\\\\frac{\\sqrt{2} i C^{u\\phi} b g_{L} \\psi_{1 3} v^{2}}{2}\\\\\\frac{\\sqrt{2} i C^{u\\phi} b g_{L} \\psi_{1 4} v^{2}}{2}\\end{matrix}\\right]$"
      ],
      "text/plain": [
       "⎡                            2⎤\n",
       "⎢√2⋅ⅈ⋅C__{u\\phi}⋅b⋅g_R⋅ψ₁ ₁⋅v ⎥\n",
       "⎢─────────────────────────────⎥\n",
       "⎢              2              ⎥\n",
       "⎢                             ⎥\n",
       "⎢                            2⎥\n",
       "⎢√2⋅ⅈ⋅C__{u\\phi}⋅b⋅g_R⋅ψ₁ ₂⋅v ⎥\n",
       "⎢─────────────────────────────⎥\n",
       "⎢              2              ⎥\n",
       "⎢                             ⎥\n",
       "⎢                            2⎥\n",
       "⎢√2⋅ⅈ⋅C__{u\\phi}⋅b⋅g_L⋅ψ₁ ₃⋅v ⎥\n",
       "⎢─────────────────────────────⎥\n",
       "⎢              2              ⎥\n",
       "⎢                             ⎥\n",
       "⎢                            2⎥\n",
       "⎢√2⋅ⅈ⋅C__{u\\phi}⋅b⋅g_L⋅ψ₁ ₄⋅v ⎥\n",
       "⎢─────────────────────────────⎥\n",
       "⎣              2              ⎦"
      ]
     },
     "metadata": {},
     "output_type": "display_data"
    }
   ],
   "source": [
    "# Calculaton of the above currents without propagator:\n",
    "out_current_light_prop_off = DS.calc_coupling_bf(P, b1, psi1_nonZero_comp, uH, representation=\"lightcone\", propagator=False)\n",
    "out_current_light_prop_off = DS.calc_coupling_bf(P, b1, psi1_nonZero_comp, uH, antispinor=True, representation=\"lightcone\", propagator=False)\n",
    "\n",
    "print(\"\\n the output current for the process B + f -> anti_f, in lightcone representation without considering the propagator, is:\")\n",
    "display(out_current_light_prop_off)\n",
    "print(\"\\n the output current for the process B + anti_f -> f, in lightcone representation without considering the propagator, is:\")\n",
    "display(out_current_light_prop_off)"
   ]
  },
  {
   "cell_type": "code",
   "execution_count": 5,
   "metadata": {},
   "outputs": [
    {
     "data": {
      "text/latex": [
       "$\\displaystyle \\left[\\begin{matrix}\\frac{\\sqrt{2} C^{u\\phi} b v^{2} \\left(- i P_{0} g_{L} \\psi_{1 3} - i P_{1} g_{L} \\psi_{1 4} - P_{2} g_{L} \\psi_{1 4} - i P_{3} g_{L} \\psi_{1 3} + i g_{R} m \\psi_{1 1}\\right)}{2}\\\\\\frac{\\sqrt{2} C^{u\\phi} b v^{2} \\left(- i P_{0} g_{L} \\psi_{1 4} - i P_{1} g_{L} \\psi_{1 3} + P_{2} g_{L} \\psi_{1 3} + i P_{3} g_{L} \\psi_{1 4} + i g_{R} m \\psi_{1 2}\\right)}{2}\\\\\\frac{\\sqrt{2} C^{u\\phi} b v^{2} \\left(- i P_{0} g_{R} \\psi_{1 1} + i P_{1} g_{R} \\psi_{1 2} + P_{2} g_{R} \\psi_{1 2} + i P_{3} g_{R} \\psi_{1 1} + i g_{L} m \\psi_{1 3}\\right)}{2}\\\\\\frac{\\sqrt{2} C^{u\\phi} b v^{2} \\left(- i P_{0} g_{R} \\psi_{1 2} + i P_{1} g_{R} \\psi_{1 1} - P_{2} g_{R} \\psi_{1 1} - i P_{3} g_{R} \\psi_{1 2} + i g_{L} m \\psi_{1 4}\\right)}{2}\\end{matrix}\\right]$"
      ],
      "text/plain": [
       "⎡                 2                                                           \n",
       "⎢√2⋅C__{u\\phi}⋅b⋅v ⋅(-ⅈ⋅P₀⋅g_L⋅ψ₁ ₃ - ⅈ⋅P₁⋅g_L⋅ψ₁ ₄ - P₂⋅g_L⋅ψ₁ ₄ - ⅈ⋅P₃⋅g_L⋅ψ\n",
       "⎢─────────────────────────────────────────────────────────────────────────────\n",
       "⎢                                               2                             \n",
       "⎢                                                                             \n",
       "⎢                 2                                                           \n",
       "⎢√2⋅C__{u\\phi}⋅b⋅v ⋅(-ⅈ⋅P₀⋅g_L⋅ψ₁ ₄ - ⅈ⋅P₁⋅g_L⋅ψ₁ ₃ + P₂⋅g_L⋅ψ₁ ₃ + ⅈ⋅P₃⋅g_L⋅ψ\n",
       "⎢─────────────────────────────────────────────────────────────────────────────\n",
       "⎢                                               2                             \n",
       "⎢                                                                             \n",
       "⎢                 2                                                           \n",
       "⎢√2⋅C__{u\\phi}⋅b⋅v ⋅(-ⅈ⋅P₀⋅g_R⋅ψ₁ ₁ + ⅈ⋅P₁⋅g_R⋅ψ₁ ₂ + P₂⋅g_R⋅ψ₁ ₂ + ⅈ⋅P₃⋅g_R⋅ψ\n",
       "⎢─────────────────────────────────────────────────────────────────────────────\n",
       "⎢                                               2                             \n",
       "⎢                                                                             \n",
       "⎢                 2                                                           \n",
       "⎢√2⋅C__{u\\phi}⋅b⋅v ⋅(-ⅈ⋅P₀⋅g_R⋅ψ₁ ₂ + ⅈ⋅P₁⋅g_R⋅ψ₁ ₁ - P₂⋅g_R⋅ψ₁ ₁ - ⅈ⋅P₃⋅g_R⋅ψ\n",
       "⎢─────────────────────────────────────────────────────────────────────────────\n",
       "⎣                                               2                             \n",
       "\n",
       "                   ⎤\n",
       "₁ ₃ + ⅈ⋅g_R⋅m⋅ψ₁ ₁)⎥\n",
       "───────────────────⎥\n",
       "                   ⎥\n",
       "                   ⎥\n",
       "                   ⎥\n",
       "₁ ₄ + ⅈ⋅g_R⋅m⋅ψ₁ ₂)⎥\n",
       "───────────────────⎥\n",
       "                   ⎥\n",
       "                   ⎥\n",
       "                   ⎥\n",
       "₁ ₁ + ⅈ⋅g_L⋅m⋅ψ₁ ₃)⎥\n",
       "───────────────────⎥\n",
       "                   ⎥\n",
       "                   ⎥\n",
       "                   ⎥\n",
       "₁ ₂ + ⅈ⋅g_L⋅m⋅ψ₁ ₄)⎥\n",
       "───────────────────⎥\n",
       "                   ⎦"
      ]
     },
     "metadata": {},
     "output_type": "display_data"
    },
    {
     "data": {
      "text/latex": [
       "$\\displaystyle \\left[\\begin{matrix}\\frac{\\sqrt{2} C^{u\\phi} b v^{2} \\left(i P_{0} g_{L} \\psi_{1 3} - i P_{1} g_{L} \\psi_{1 4} + P_{2} g_{L} \\psi_{1 4} - i P_{3} g_{L} \\psi_{1 3} + i g_{R} m \\psi_{1 1}\\right)}{2}\\\\\\frac{\\sqrt{2} C^{u\\phi} b v^{2} \\left(i P_{0} g_{L} \\psi_{1 4} - i P_{1} g_{L} \\psi_{1 3} - P_{2} g_{L} \\psi_{1 3} + i P_{3} g_{L} \\psi_{1 4} + i g_{R} m \\psi_{1 2}\\right)}{2}\\\\\\frac{\\sqrt{2} C^{u\\phi} b v^{2} \\left(i P_{0} g_{R} \\psi_{1 1} + i P_{1} g_{R} \\psi_{1 2} - P_{2} g_{R} \\psi_{1 2} + i P_{3} g_{R} \\psi_{1 1} + i g_{L} m \\psi_{1 3}\\right)}{2}\\\\\\frac{\\sqrt{2} C^{u\\phi} b v^{2} \\left(i P_{0} g_{R} \\psi_{1 2} + i P_{1} g_{R} \\psi_{1 1} + P_{2} g_{R} \\psi_{1 1} - i P_{3} g_{R} \\psi_{1 2} + i g_{L} m \\psi_{1 4}\\right)}{2}\\end{matrix}\\right]$"
      ],
      "text/plain": [
       "⎡                 2                                                           \n",
       "⎢√2⋅C__{u\\phi}⋅b⋅v ⋅(ⅈ⋅P₀⋅g_L⋅ψ₁ ₃ - ⅈ⋅P₁⋅g_L⋅ψ₁ ₄ + P₂⋅g_L⋅ψ₁ ₄ - ⅈ⋅P₃⋅g_L⋅ψ₁\n",
       "⎢─────────────────────────────────────────────────────────────────────────────\n",
       "⎢                                               2                             \n",
       "⎢                                                                             \n",
       "⎢                 2                                                           \n",
       "⎢√2⋅C__{u\\phi}⋅b⋅v ⋅(ⅈ⋅P₀⋅g_L⋅ψ₁ ₄ - ⅈ⋅P₁⋅g_L⋅ψ₁ ₃ - P₂⋅g_L⋅ψ₁ ₃ + ⅈ⋅P₃⋅g_L⋅ψ₁\n",
       "⎢─────────────────────────────────────────────────────────────────────────────\n",
       "⎢                                               2                             \n",
       "⎢                                                                             \n",
       "⎢                 2                                                           \n",
       "⎢√2⋅C__{u\\phi}⋅b⋅v ⋅(ⅈ⋅P₀⋅g_R⋅ψ₁ ₁ + ⅈ⋅P₁⋅g_R⋅ψ₁ ₂ - P₂⋅g_R⋅ψ₁ ₂ + ⅈ⋅P₃⋅g_R⋅ψ₁\n",
       "⎢─────────────────────────────────────────────────────────────────────────────\n",
       "⎢                                               2                             \n",
       "⎢                                                                             \n",
       "⎢                 2                                                           \n",
       "⎢√2⋅C__{u\\phi}⋅b⋅v ⋅(ⅈ⋅P₀⋅g_R⋅ψ₁ ₂ + ⅈ⋅P₁⋅g_R⋅ψ₁ ₁ + P₂⋅g_R⋅ψ₁ ₁ - ⅈ⋅P₃⋅g_R⋅ψ₁\n",
       "⎢─────────────────────────────────────────────────────────────────────────────\n",
       "⎣                                               2                             \n",
       "\n",
       "                  ⎤\n",
       " ₃ + ⅈ⋅g_R⋅m⋅ψ₁ ₁)⎥\n",
       "──────────────────⎥\n",
       "                  ⎥\n",
       "                  ⎥\n",
       "                  ⎥\n",
       " ₄ + ⅈ⋅g_R⋅m⋅ψ₁ ₂)⎥\n",
       "──────────────────⎥\n",
       "                  ⎥\n",
       "                  ⎥\n",
       "                  ⎥\n",
       " ₁ + ⅈ⋅g_L⋅m⋅ψ₁ ₃)⎥\n",
       "──────────────────⎥\n",
       "                  ⎥\n",
       "                  ⎥\n",
       "                  ⎥\n",
       " ₂ + ⅈ⋅g_L⋅m⋅ψ₁ ₄)⎥\n",
       "──────────────────⎥\n",
       "                  ⎦"
      ]
     },
     "metadata": {},
     "output_type": "display_data"
    }
   ],
   "source": [
    "# Simplification of the Lorentz-structured expressions above\n",
    "display(sp.simplify(sp.cancel((out_current_1b))))\n",
    "display(sp.simplify(sp.cancel((out_current_1c))))"
   ]
  },
  {
   "cell_type": "code",
   "execution_count": 6,
   "metadata": {},
   "outputs": [
    {
     "name": "stdout",
     "output_type": "stream",
     "text": [
      "\n",
      " the output current for the process f + f -> g, in Lorentz representation, is:\n"
     ]
    },
    {
     "data": {
      "text/latex": [
       "$\\displaystyle \\left[\\begin{matrix}i P_{0} g_{L} \\psi_{1 3} \\psi_{2 3} - i P_{0} g_{L} \\psi_{1 4} \\psi_{2 4} - i P_{0} g_{R} \\psi_{1 1} \\psi_{2 1} + i P_{0} g_{R} \\psi_{1 2} \\psi_{2 2} + 2 i P_{1} g_{L} \\psi_{1 3} \\psi_{2 4} - 2 i P_{1} g_{R} \\psi_{1 2} \\psi_{2 1} + 2 P_{2} g_{L} \\psi_{1 3} \\psi_{2 4} + 2 P_{2} g_{R} \\psi_{1 2} \\psi_{2 1} + i P_{3} g_{L} \\psi_{1 3} \\psi_{2 3} - i P_{3} g_{L} \\psi_{1 4} \\psi_{2 4} - i P_{3} g_{R} \\psi_{1 1} \\psi_{2 1} + i P_{3} g_{R} \\psi_{1 2} \\psi_{2 2}\\\\- i P_{0} g_{L} \\psi_{1 3} \\psi_{2 3} + i P_{0} g_{L} \\psi_{1 4} \\psi_{2 4} + i P_{0} g_{R} \\psi_{1 1} \\psi_{2 1} - i P_{0} g_{R} \\psi_{1 2} \\psi_{2 2} + 2 i P_{1} g_{L} \\psi_{1 4} \\psi_{2 3} - 2 i P_{1} g_{R} \\psi_{1 1} \\psi_{2 2} - 2 P_{2} g_{L} \\psi_{1 4} \\psi_{2 3} - 2 P_{2} g_{R} \\psi_{1 1} \\psi_{2 2} + i P_{3} g_{L} \\psi_{1 3} \\psi_{2 3} - i P_{3} g_{L} \\psi_{1 4} \\psi_{2 4} - i P_{3} g_{R} \\psi_{1 1} \\psi_{2 1} + i P_{3} g_{R} \\psi_{1 2} \\psi_{2 2}\\\\2 i P_{0} g_{L} \\psi_{1 3} \\psi_{2 4} - 2 i P_{0} g_{R} \\psi_{1 1} \\psi_{2 2} + i P_{1} g_{L} \\psi_{1 3} \\psi_{2 3} - i P_{1} g_{L} \\psi_{1 4} \\psi_{2 4} + i P_{1} g_{R} \\psi_{1 1} \\psi_{2 1} - i P_{1} g_{R} \\psi_{1 2} \\psi_{2 2} - P_{2} g_{L} \\psi_{1 3} \\psi_{2 3} + P_{2} g_{L} \\psi_{1 4} \\psi_{2 4} - P_{2} g_{R} \\psi_{1 1} \\psi_{2 1} + P_{2} g_{R} \\psi_{1 2} \\psi_{2 2} - 2 i P_{3} g_{L} \\psi_{1 3} \\psi_{2 4} - 2 i P_{3} g_{R} \\psi_{1 1} \\psi_{2 2}\\\\2 i P_{0} g_{L} \\psi_{1 4} \\psi_{2 3} - 2 i P_{0} g_{R} \\psi_{1 2} \\psi_{2 1} - i P_{1} g_{L} \\psi_{1 3} \\psi_{2 3} + i P_{1} g_{L} \\psi_{1 4} \\psi_{2 4} - i P_{1} g_{R} \\psi_{1 1} \\psi_{2 1} + i P_{1} g_{R} \\psi_{1 2} \\psi_{2 2} - P_{2} g_{L} \\psi_{1 3} \\psi_{2 3} + P_{2} g_{L} \\psi_{1 4} \\psi_{2 4} - P_{2} g_{R} \\psi_{1 1} \\psi_{2 1} + P_{2} g_{R} \\psi_{1 2} \\psi_{2 2} + 2 i P_{3} g_{L} \\psi_{1 4} \\psi_{2 3} + 2 i P_{3} g_{R} \\psi_{1 2} \\psi_{2 1}\\end{matrix}\\right]$"
      ],
      "text/plain": [
       "⎡ⅈ⋅P₀⋅g_L⋅ψ₁ ₃⋅ψ₂ ₃ - ⅈ⋅P₀⋅g_L⋅ψ₁ ₄⋅ψ₂ ₄ - ⅈ⋅P₀⋅g_R⋅ψ₁ ₁⋅ψ₂ ₁ + ⅈ⋅P₀⋅g_R⋅ψ₁ ₂⋅\n",
       "⎢                                                                             \n",
       "⎢-ⅈ⋅P₀⋅g_L⋅ψ₁ ₃⋅ψ₂ ₃ + ⅈ⋅P₀⋅g_L⋅ψ₁ ₄⋅ψ₂ ₄ + ⅈ⋅P₀⋅g_R⋅ψ₁ ₁⋅ψ₂ ₁ - ⅈ⋅P₀⋅g_R⋅ψ₁ ₂\n",
       "⎢                                                                             \n",
       "⎢  2⋅ⅈ⋅P₀⋅g_L⋅ψ₁ ₃⋅ψ₂ ₄ - 2⋅ⅈ⋅P₀⋅g_R⋅ψ₁ ₁⋅ψ₂ ₂ + ⅈ⋅P₁⋅g_L⋅ψ₁ ₃⋅ψ₂ ₃ - ⅈ⋅P₁⋅g_L\n",
       "⎢                                                                             \n",
       "⎣  2⋅ⅈ⋅P₀⋅g_L⋅ψ₁ ₄⋅ψ₂ ₃ - 2⋅ⅈ⋅P₀⋅g_R⋅ψ₁ ₂⋅ψ₂ ₁ - ⅈ⋅P₁⋅g_L⋅ψ₁ ₃⋅ψ₂ ₃ + ⅈ⋅P₁⋅g_L\n",
       "\n",
       "ψ₂ ₂ + 2⋅ⅈ⋅P₁⋅g_L⋅ψ₁ ₃⋅ψ₂ ₄ - 2⋅ⅈ⋅P₁⋅g_R⋅ψ₁ ₂⋅ψ₂ ₁ + 2⋅P₂⋅g_L⋅ψ₁ ₃⋅ψ₂ ₄ + 2⋅P₂\n",
       "                                                                              \n",
       "⋅ψ₂ ₂ + 2⋅ⅈ⋅P₁⋅g_L⋅ψ₁ ₄⋅ψ₂ ₃ - 2⋅ⅈ⋅P₁⋅g_R⋅ψ₁ ₁⋅ψ₂ ₂ - 2⋅P₂⋅g_L⋅ψ₁ ₄⋅ψ₂ ₃ - 2⋅P\n",
       "                                                                              \n",
       "⋅ψ₁ ₄⋅ψ₂ ₄ + ⅈ⋅P₁⋅g_R⋅ψ₁ ₁⋅ψ₂ ₁ - ⅈ⋅P₁⋅g_R⋅ψ₁ ₂⋅ψ₂ ₂ - P₂⋅g_L⋅ψ₁ ₃⋅ψ₂ ₃ + P₂⋅g\n",
       "                                                                              \n",
       "⋅ψ₁ ₄⋅ψ₂ ₄ - ⅈ⋅P₁⋅g_R⋅ψ₁ ₁⋅ψ₂ ₁ + ⅈ⋅P₁⋅g_R⋅ψ₁ ₂⋅ψ₂ ₂ - P₂⋅g_L⋅ψ₁ ₃⋅ψ₂ ₃ + P₂⋅g\n",
       "\n",
       "⋅g_R⋅ψ₁ ₂⋅ψ₂ ₁ + ⅈ⋅P₃⋅g_L⋅ψ₁ ₃⋅ψ₂ ₃ - ⅈ⋅P₃⋅g_L⋅ψ₁ ₄⋅ψ₂ ₄ - ⅈ⋅P₃⋅g_R⋅ψ₁ ₁⋅ψ₂ ₁ \n",
       "                                                                              \n",
       "₂⋅g_R⋅ψ₁ ₁⋅ψ₂ ₂ + ⅈ⋅P₃⋅g_L⋅ψ₁ ₃⋅ψ₂ ₃ - ⅈ⋅P₃⋅g_L⋅ψ₁ ₄⋅ψ₂ ₄ - ⅈ⋅P₃⋅g_R⋅ψ₁ ₁⋅ψ₂ ₁\n",
       "                                                                              \n",
       "_L⋅ψ₁ ₄⋅ψ₂ ₄ - P₂⋅g_R⋅ψ₁ ₁⋅ψ₂ ₁ + P₂⋅g_R⋅ψ₁ ₂⋅ψ₂ ₂ - 2⋅ⅈ⋅P₃⋅g_L⋅ψ₁ ₃⋅ψ₂ ₄ - 2⋅\n",
       "                                                                              \n",
       "_L⋅ψ₁ ₄⋅ψ₂ ₄ - P₂⋅g_R⋅ψ₁ ₁⋅ψ₂ ₁ + P₂⋅g_R⋅ψ₁ ₂⋅ψ₂ ₂ + 2⋅ⅈ⋅P₃⋅g_L⋅ψ₁ ₄⋅ψ₂ ₃ + 2⋅\n",
       "\n",
       "+ ⅈ⋅P₃⋅g_R⋅ψ₁ ₂⋅ψ₂ ₂ ⎤\n",
       "                     ⎥\n",
       " + ⅈ⋅P₃⋅g_R⋅ψ₁ ₂⋅ψ₂ ₂⎥\n",
       "                     ⎥\n",
       "ⅈ⋅P₃⋅g_R⋅ψ₁ ₁⋅ψ₂ ₂   ⎥\n",
       "                     ⎥\n",
       "ⅈ⋅P₃⋅g_R⋅ψ₁ ₂⋅ψ₂ ₁   ⎦"
      ]
     },
     "metadata": {},
     "output_type": "display_data"
    },
    {
     "name": "stdout",
     "output_type": "stream",
     "text": [
      "\n",
      " the output current for the process f + f -> g, in lightcone representation, is:\n"
     ]
    },
    {
     "data": {
      "text/latex": [
       "$\\displaystyle \\left[\\begin{matrix}i \\left(P_{0} g_{L} \\psi_{1 3} \\psi_{2 3} - P_{0} g_{L} \\psi_{1 4} \\psi_{2 4} - P_{0} g_{R} \\psi_{1 1} \\psi_{2 1} + P_{0} g_{R} \\psi_{1 2} \\psi_{2 2} - 2 P_{2} g_{R} \\psi_{1 2} \\psi_{2 1} + 2 P_{3} g_{L} \\psi_{1 3} \\psi_{2 4}\\right)\\\\i \\left(- P_{1} g_{L} \\psi_{1 3} \\psi_{2 3} + P_{1} g_{L} \\psi_{1 4} \\psi_{2 4} + P_{1} g_{R} \\psi_{1 1} \\psi_{2 1} - P_{1} g_{R} \\psi_{1 2} \\psi_{2 2} + 2 P_{2} g_{L} \\psi_{1 4} \\psi_{2 3} - 2 P_{3} g_{R} \\psi_{1 1} \\psi_{2 2}\\right)\\\\i \\left(- 2 P_{0} g_{R} \\psi_{1 1} \\psi_{2 2} + 2 P_{1} g_{L} \\psi_{1 3} \\psi_{2 4} + P_{2} g_{L} \\psi_{1 3} \\psi_{2 3} - P_{2} g_{L} \\psi_{1 4} \\psi_{2 4} + P_{2} g_{R} \\psi_{1 1} \\psi_{2 1} - P_{2} g_{R} \\psi_{1 2} \\psi_{2 2}\\right)\\\\i \\left(2 P_{0} g_{L} \\psi_{1 4} \\psi_{2 3} - 2 P_{1} g_{R} \\psi_{1 2} \\psi_{2 1} - P_{3} g_{L} \\psi_{1 3} \\psi_{2 3} + P_{3} g_{L} \\psi_{1 4} \\psi_{2 4} - P_{3} g_{R} \\psi_{1 1} \\psi_{2 1} + P_{3} g_{R} \\psi_{1 2} \\psi_{2 2}\\right)\\end{matrix}\\right]$"
      ],
      "text/plain": [
       "⎡ⅈ⋅(P₀⋅g_L⋅ψ₁ ₃⋅ψ₂ ₃ - P₀⋅g_L⋅ψ₁ ₄⋅ψ₂ ₄ - P₀⋅g_R⋅ψ₁ ₁⋅ψ₂ ₁ + P₀⋅g_R⋅ψ₁ ₂⋅ψ₂ ₂ \n",
       "⎢                                                                             \n",
       "⎢ⅈ⋅(-P₁⋅g_L⋅ψ₁ ₃⋅ψ₂ ₃ + P₁⋅g_L⋅ψ₁ ₄⋅ψ₂ ₄ + P₁⋅g_R⋅ψ₁ ₁⋅ψ₂ ₁ - P₁⋅g_R⋅ψ₁ ₂⋅ψ₂ ₂\n",
       "⎢                                                                             \n",
       "⎢ⅈ⋅(-2⋅P₀⋅g_R⋅ψ₁ ₁⋅ψ₂ ₂ + 2⋅P₁⋅g_L⋅ψ₁ ₃⋅ψ₂ ₄ + P₂⋅g_L⋅ψ₁ ₃⋅ψ₂ ₃ - P₂⋅g_L⋅ψ₁ ₄⋅\n",
       "⎢                                                                             \n",
       "⎣ⅈ⋅(2⋅P₀⋅g_L⋅ψ₁ ₄⋅ψ₂ ₃ - 2⋅P₁⋅g_R⋅ψ₁ ₂⋅ψ₂ ₁ - P₃⋅g_L⋅ψ₁ ₃⋅ψ₂ ₃ + P₃⋅g_L⋅ψ₁ ₄⋅ψ\n",
       "\n",
       "- 2⋅P₂⋅g_R⋅ψ₁ ₂⋅ψ₂ ₁ + 2⋅P₃⋅g_L⋅ψ₁ ₃⋅ψ₂ ₄) ⎤\n",
       "                                           ⎥\n",
       " + 2⋅P₂⋅g_L⋅ψ₁ ₄⋅ψ₂ ₃ - 2⋅P₃⋅g_R⋅ψ₁ ₁⋅ψ₂ ₂)⎥\n",
       "                                           ⎥\n",
       "ψ₂ ₄ + P₂⋅g_R⋅ψ₁ ₁⋅ψ₂ ₁ - P₂⋅g_R⋅ψ₁ ₂⋅ψ₂ ₂)⎥\n",
       "                                           ⎥\n",
       "₂ ₄ - P₃⋅g_R⋅ψ₁ ₁⋅ψ₂ ₁ + P₃⋅g_R⋅ψ₁ ₂⋅ψ₂ ₂) ⎦"
      ]
     },
     "metadata": {},
     "output_type": "display_data"
    },
    {
     "name": "stdout",
     "output_type": "stream",
     "text": [
      "\n",
      " the output current for the process f + g -> f, in lightcone representation without propagator, is:\n"
     ]
    },
    {
     "data": {
      "text/latex": [
       "$\\displaystyle \\left[\\begin{matrix}\\frac{i g_{R} \\left(- P_{0} \\psi_{1 1} v_{2} + 2 P_{0} \\psi_{1 2} v_{4} + P_{1} \\psi_{1 1} v_{1} - P_{2} \\psi_{1 1} v_{4} + P_{3} \\psi_{1 1} v_{3} - 2 P_{3} \\psi_{1 2} v_{1}\\right)}{2}\\\\\\frac{i g_{R} \\left(P_{0} \\psi_{1 2} v_{2} + 2 P_{1} \\psi_{1 1} v_{3} - P_{1} \\psi_{1 2} v_{1} - 2 P_{2} \\psi_{1 1} v_{2} + P_{2} \\psi_{1 2} v_{4} - P_{3} \\psi_{1 2} v_{3}\\right)}{2}\\\\\\frac{i g_{L} \\left(P_{0} \\psi_{1 3} v_{2} - P_{1} \\psi_{1 3} v_{1} - 2 P_{1} \\psi_{1 4} v_{4} - P_{2} \\psi_{1 3} v_{4} + P_{3} \\psi_{1 3} v_{3} + 2 P_{3} \\psi_{1 4} v_{2}\\right)}{2}\\\\\\frac{i g_{L} \\left(- 2 P_{0} \\psi_{1 3} v_{3} - P_{0} \\psi_{1 4} v_{2} + P_{1} \\psi_{1 4} v_{1} + 2 P_{2} \\psi_{1 3} v_{1} + P_{2} \\psi_{1 4} v_{4} - P_{3} \\psi_{1 4} v_{3}\\right)}{2}\\end{matrix}\\right]$"
      ],
      "text/plain": [
       "⎡ⅈ⋅g_R⋅(-P₀⋅ψ₁ ₁⋅v₂ + 2⋅P₀⋅ψ₁ ₂⋅v₄ + P₁⋅ψ₁ ₁⋅v₁ - P₂⋅ψ₁ ₁⋅v₄ + P₃⋅ψ₁ ₁⋅v₃ - 2⋅\n",
       "⎢─────────────────────────────────────────────────────────────────────────────\n",
       "⎢                                           2                                 \n",
       "⎢                                                                             \n",
       "⎢ⅈ⋅g_R⋅(P₀⋅ψ₁ ₂⋅v₂ + 2⋅P₁⋅ψ₁ ₁⋅v₃ - P₁⋅ψ₁ ₂⋅v₁ - 2⋅P₂⋅ψ₁ ₁⋅v₂ + P₂⋅ψ₁ ₂⋅v₄ - P\n",
       "⎢─────────────────────────────────────────────────────────────────────────────\n",
       "⎢                                           2                                 \n",
       "⎢                                                                             \n",
       "⎢ⅈ⋅g_L⋅(P₀⋅ψ₁ ₃⋅v₂ - P₁⋅ψ₁ ₃⋅v₁ - 2⋅P₁⋅ψ₁ ₄⋅v₄ - P₂⋅ψ₁ ₃⋅v₄ + P₃⋅ψ₁ ₃⋅v₃ + 2⋅P\n",
       "⎢─────────────────────────────────────────────────────────────────────────────\n",
       "⎢                                           2                                 \n",
       "⎢                                                                             \n",
       "⎢ⅈ⋅g_L⋅(-2⋅P₀⋅ψ₁ ₃⋅v₃ - P₀⋅ψ₁ ₄⋅v₂ + P₁⋅ψ₁ ₄⋅v₁ + 2⋅P₂⋅ψ₁ ₃⋅v₁ + P₂⋅ψ₁ ₄⋅v₄ - \n",
       "⎢─────────────────────────────────────────────────────────────────────────────\n",
       "⎣                                           2                                 \n",
       "\n",
       "P₃⋅ψ₁ ₂⋅v₁)⎤\n",
       "───────────⎥\n",
       "           ⎥\n",
       "           ⎥\n",
       "₃⋅ψ₁ ₂⋅v₃) ⎥\n",
       "────────── ⎥\n",
       "           ⎥\n",
       "           ⎥\n",
       "₃⋅ψ₁ ₄⋅v₂) ⎥\n",
       "────────── ⎥\n",
       "           ⎥\n",
       "           ⎥\n",
       "P₃⋅ψ₁ ₄⋅v₃)⎥\n",
       "───────────⎥\n",
       "           ⎦"
      ]
     },
     "metadata": {},
     "output_type": "display_data"
    },
    {
     "name": "stdout",
     "output_type": "stream",
     "text": [
      "\n",
      " the output current for the process f + g -> f, in lightcone representation with propagator, is:\n"
     ]
    },
    {
     "data": {
      "text/latex": [
       "$\\displaystyle \\left[\\begin{matrix}\\frac{i \\left(- P_{0}^{2} g_{L} \\psi_{1 3} v_{2} + P_{0} P_{1} g_{L} \\psi_{1 3} v_{1} + 2 P_{0} P_{1} g_{L} \\psi_{1 4} v_{4} + P_{0} P_{2} g_{L} \\psi_{1 3} v_{4} + P_{0} P_{3} g_{L} \\psi_{1 3} v_{3} - P_{0} P_{3} g_{L} \\psi_{1 4} v_{2} - P_{0} g_{R} m \\psi_{1 1} v_{2} + 2 P_{0} g_{R} m \\psi_{1 2} v_{4} - P_{1} P_{3} g_{L} \\psi_{1 4} v_{1} + P_{1} g_{R} m \\psi_{1 1} v_{1} - 2 P_{2} P_{3} g_{L} \\psi_{1 3} v_{1} - P_{2} P_{3} g_{L} \\psi_{1 4} v_{4} - P_{2} g_{R} m \\psi_{1 1} v_{4} + P_{3}^{2} g_{L} \\psi_{1 4} v_{3} + P_{3} g_{R} m \\psi_{1 1} v_{3} - 2 P_{3} g_{R} m \\psi_{1 2} v_{1}\\right)}{2}\\\\\\frac{i \\left(2 P_{0} P_{1} g_{L} \\psi_{1 3} v_{3} + P_{0} P_{1} g_{L} \\psi_{1 4} v_{2} - P_{0} P_{2} g_{L} \\psi_{1 3} v_{2} + P_{0} g_{R} m \\psi_{1 2} v_{2} - P_{1}^{2} g_{L} \\psi_{1 4} v_{1} - P_{1} P_{2} g_{L} \\psi_{1 3} v_{1} + P_{1} P_{2} g_{L} \\psi_{1 4} v_{4} + P_{1} P_{3} g_{L} \\psi_{1 4} v_{3} + 2 P_{1} g_{R} m \\psi_{1 1} v_{3} - P_{1} g_{R} m \\psi_{1 2} v_{1} + P_{2}^{2} g_{L} \\psi_{1 3} v_{4} - P_{2} P_{3} g_{L} \\psi_{1 3} v_{3} - 2 P_{2} P_{3} g_{L} \\psi_{1 4} v_{2} - 2 P_{2} g_{R} m \\psi_{1 1} v_{2} + P_{2} g_{R} m \\psi_{1 2} v_{4} - P_{3} g_{R} m \\psi_{1 2} v_{3}\\right)}{2}\\\\\\frac{i \\left(P_{0} P_{1} g_{R} \\psi_{1 1} v_{2} - 2 P_{0} P_{1} g_{R} \\psi_{1 2} v_{4} + P_{0} P_{3} g_{R} \\psi_{1 2} v_{2} + P_{0} g_{L} m \\psi_{1 3} v_{2} - P_{1}^{2} g_{R} \\psi_{1 1} v_{1} + P_{1} P_{2} g_{R} \\psi_{1 1} v_{4} + P_{1} P_{3} g_{R} \\psi_{1 1} v_{3} + P_{1} P_{3} g_{R} \\psi_{1 2} v_{1} - P_{1} g_{L} m \\psi_{1 3} v_{1} - 2 P_{1} g_{L} m \\psi_{1 4} v_{4} - 2 P_{2} P_{3} g_{R} \\psi_{1 1} v_{2} + P_{2} P_{3} g_{R} \\psi_{1 2} v_{4} - P_{2} g_{L} m \\psi_{1 3} v_{4} - P_{3}^{2} g_{R} \\psi_{1 2} v_{3} + P_{3} g_{L} m \\psi_{1 3} v_{3} + 2 P_{3} g_{L} m \\psi_{1 4} v_{2}\\right)}{2}\\\\\\frac{i \\left(- P_{0}^{2} g_{R} \\psi_{1 2} v_{2} - 2 P_{0} P_{1} g_{R} \\psi_{1 1} v_{3} + P_{0} P_{1} g_{R} \\psi_{1 2} v_{1} + P_{0} P_{2} g_{R} \\psi_{1 1} v_{2} + P_{0} P_{2} g_{R} \\psi_{1 2} v_{4} + P_{0} P_{3} g_{R} \\psi_{1 2} v_{3} - 2 P_{0} g_{L} m \\psi_{1 3} v_{3} - P_{0} g_{L} m \\psi_{1 4} v_{2} + P_{1} P_{2} g_{R} \\psi_{1 1} v_{1} + P_{1} g_{L} m \\psi_{1 4} v_{1} - P_{2}^{2} g_{R} \\psi_{1 1} v_{4} + P_{2} P_{3} g_{R} \\psi_{1 1} v_{3} - 2 P_{2} P_{3} g_{R} \\psi_{1 2} v_{1} + 2 P_{2} g_{L} m \\psi_{1 3} v_{1} + P_{2} g_{L} m \\psi_{1 4} v_{4} - P_{3} g_{L} m \\psi_{1 4} v_{3}\\right)}{2}\\end{matrix}\\right]$"
      ],
      "text/plain": [
       "⎡  ⎛    2                                                                     \n",
       "⎢ⅈ⋅⎝- P₀ ⋅g_L⋅ψ₁ ₃⋅v₂ + P₀⋅P₁⋅g_L⋅ψ₁ ₃⋅v₁ + 2⋅P₀⋅P₁⋅g_L⋅ψ₁ ₄⋅v₄ + P₀⋅P₂⋅g_L⋅ψ₁\n",
       "⎢─────────────────────────────────────────────────────────────────────────────\n",
       "⎢                                                                             \n",
       "⎢                                                                             \n",
       "⎢   ⎛                                                                         \n",
       "⎢ ⅈ⋅⎝2⋅P₀⋅P₁⋅g_L⋅ψ₁ ₃⋅v₃ + P₀⋅P₁⋅g_L⋅ψ₁ ₄⋅v₂ - P₀⋅P₂⋅g_L⋅ψ₁ ₃⋅v₂ + P₀⋅g_R⋅m⋅ψ₁\n",
       "⎢ ────────────────────────────────────────────────────────────────────────────\n",
       "⎢                                                                             \n",
       "⎢                                                                             \n",
       "⎢   ⎛                                                                         \n",
       "⎢ ⅈ⋅⎝P₀⋅P₁⋅g_R⋅ψ₁ ₁⋅v₂ - 2⋅P₀⋅P₁⋅g_R⋅ψ₁ ₂⋅v₄ + P₀⋅P₃⋅g_R⋅ψ₁ ₂⋅v₂ + P₀⋅g_L⋅m⋅ψ₁\n",
       "⎢ ────────────────────────────────────────────────────────────────────────────\n",
       "⎢                                                                             \n",
       "⎢                                                                             \n",
       "⎢  ⎛    2                                                                     \n",
       "⎢ⅈ⋅⎝- P₀ ⋅g_R⋅ψ₁ ₂⋅v₂ - 2⋅P₀⋅P₁⋅g_R⋅ψ₁ ₁⋅v₃ + P₀⋅P₁⋅g_R⋅ψ₁ ₂⋅v₁ + P₀⋅P₂⋅g_R⋅ψ₁\n",
       "⎢─────────────────────────────────────────────────────────────────────────────\n",
       "⎣                                                                             \n",
       "\n",
       "                                                                              \n",
       " ₃⋅v₄ + P₀⋅P₃⋅g_L⋅ψ₁ ₃⋅v₃ - P₀⋅P₃⋅g_L⋅ψ₁ ₄⋅v₂ - P₀⋅g_R⋅m⋅ψ₁ ₁⋅v₂ + 2⋅P₀⋅g_R⋅m⋅\n",
       "──────────────────────────────────────────────────────────────────────────────\n",
       "                                                                              \n",
       "                                                                              \n",
       "          2                                                                   \n",
       " ₂⋅v₂ - P₁ ⋅g_L⋅ψ₁ ₄⋅v₁ - P₁⋅P₂⋅g_L⋅ψ₁ ₃⋅v₁ + P₁⋅P₂⋅g_L⋅ψ₁ ₄⋅v₄ + P₁⋅P₃⋅g_L⋅ψ₁\n",
       "──────────────────────────────────────────────────────────────────────────────\n",
       "                                                                              \n",
       "                                                                              \n",
       "          2                                                                   \n",
       " ₃⋅v₂ - P₁ ⋅g_R⋅ψ₁ ₁⋅v₁ + P₁⋅P₂⋅g_R⋅ψ₁ ₁⋅v₄ + P₁⋅P₃⋅g_R⋅ψ₁ ₁⋅v₃ + P₁⋅P₃⋅g_R⋅ψ₁\n",
       "──────────────────────────────────────────────────────────────────────────────\n",
       "                                                                              \n",
       "                                                                              \n",
       "                                                                              \n",
       " ₁⋅v₂ + P₀⋅P₂⋅g_R⋅ψ₁ ₂⋅v₄ + P₀⋅P₃⋅g_R⋅ψ₁ ₂⋅v₃ - 2⋅P₀⋅g_L⋅m⋅ψ₁ ₃⋅v₃ - P₀⋅g_L⋅m⋅\n",
       "──────────────────────────────────────────────────────────────────────────────\n",
       "                                                                              \n",
       "\n",
       "                                                                              \n",
       "ψ₁ ₂⋅v₄ - P₁⋅P₃⋅g_L⋅ψ₁ ₄⋅v₁ + P₁⋅g_R⋅m⋅ψ₁ ₁⋅v₁ - 2⋅P₂⋅P₃⋅g_L⋅ψ₁ ₃⋅v₁ - P₂⋅P₃⋅g\n",
       "──────────────────────────────────────────────────────────────────────────────\n",
       "     2                                                                        \n",
       "                                                                              \n",
       "                                                  2                           \n",
       " ₄⋅v₃ + 2⋅P₁⋅g_R⋅m⋅ψ₁ ₁⋅v₃ - P₁⋅g_R⋅m⋅ψ₁ ₂⋅v₁ + P₂ ⋅g_L⋅ψ₁ ₃⋅v₄ - P₂⋅P₃⋅g_L⋅ψ₁\n",
       "──────────────────────────────────────────────────────────────────────────────\n",
       "     2                                                                        \n",
       "                                                                              \n",
       "                                                                              \n",
       " ₂⋅v₁ - P₁⋅g_L⋅m⋅ψ₁ ₃⋅v₁ - 2⋅P₁⋅g_L⋅m⋅ψ₁ ₄⋅v₄ - 2⋅P₂⋅P₃⋅g_R⋅ψ₁ ₁⋅v₂ + P₂⋅P₃⋅g_\n",
       "──────────────────────────────────────────────────────────────────────────────\n",
       "     2                                                                        \n",
       "                                                                              \n",
       "                                                   2                          \n",
       "ψ₁ ₄⋅v₂ + P₁⋅P₂⋅g_R⋅ψ₁ ₁⋅v₁ + P₁⋅g_L⋅m⋅ψ₁ ₄⋅v₁ - P₂ ⋅g_R⋅ψ₁ ₁⋅v₄ + P₂⋅P₃⋅g_R⋅ψ\n",
       "──────────────────────────────────────────────────────────────────────────────\n",
       "     2                                                                        \n",
       "\n",
       "                                  2                                           \n",
       "_L⋅ψ₁ ₄⋅v₄ - P₂⋅g_R⋅m⋅ψ₁ ₁⋅v₄ + P₃ ⋅g_L⋅ψ₁ ₄⋅v₃ + P₃⋅g_R⋅m⋅ψ₁ ₁⋅v₃ - 2⋅P₃⋅g_R⋅\n",
       "──────────────────────────────────────────────────────────────────────────────\n",
       "                                                                              \n",
       "                                                                              \n",
       "                                                                              \n",
       " ₃⋅v₃ - 2⋅P₂⋅P₃⋅g_L⋅ψ₁ ₄⋅v₂ - 2⋅P₂⋅g_R⋅m⋅ψ₁ ₁⋅v₂ + P₂⋅g_R⋅m⋅ψ₁ ₂⋅v₄ - P₃⋅g_R⋅m\n",
       "──────────────────────────────────────────────────────────────────────────────\n",
       "                                                                              \n",
       "                                                                              \n",
       "                                 2                                            \n",
       "R⋅ψ₁ ₂⋅v₄ - P₂⋅g_L⋅m⋅ψ₁ ₃⋅v₄ - P₃ ⋅g_R⋅ψ₁ ₂⋅v₃ + P₃⋅g_L⋅m⋅ψ₁ ₃⋅v₃ + 2⋅P₃⋅g_L⋅m\n",
       "──────────────────────────────────────────────────────────────────────────────\n",
       "                                                                              \n",
       "                                                                              \n",
       "                                                                              \n",
       "₁ ₁⋅v₃ - 2⋅P₂⋅P₃⋅g_R⋅ψ₁ ₂⋅v₁ + 2⋅P₂⋅g_L⋅m⋅ψ₁ ₃⋅v₁ + P₂⋅g_L⋅m⋅ψ₁ ₄⋅v₄ - P₃⋅g_L⋅\n",
       "──────────────────────────────────────────────────────────────────────────────\n",
       "                                                                              \n",
       "\n",
       "         ⎞⎤\n",
       "m⋅ψ₁ ₂⋅v₁⎠⎥\n",
       "──────────⎥\n",
       "          ⎥\n",
       "          ⎥\n",
       "        ⎞ ⎥\n",
       "⋅ψ₁ ₂⋅v₃⎠ ⎥\n",
       "───────── ⎥\n",
       "          ⎥\n",
       "          ⎥\n",
       "        ⎞ ⎥\n",
       "⋅ψ₁ ₄⋅v₂⎠ ⎥\n",
       "───────── ⎥\n",
       "          ⎥\n",
       "          ⎥\n",
       "         ⎞⎥\n",
       "m⋅ψ₁ ₄⋅v₃⎠⎥\n",
       "──────────⎥\n",
       "          ⎦"
      ]
     },
     "metadata": {},
     "output_type": "display_data"
    },
    {
     "name": "stdout",
     "output_type": "stream",
     "text": [
      "\n",
      " the output current for the process anti_f + g -> anti_f, in lightcone representation without propagator, is:\n"
     ]
    },
    {
     "data": {
      "text/latex": [
       "$\\displaystyle \\left[\\begin{matrix}\\frac{i g_{R} \\left(- P_{0} \\psi_{1 1} v_{2} + P_{1} \\psi_{1 1} v_{1} + 2 P_{1} \\psi_{1 2} v_{3} - P_{2} \\psi_{1 1} v_{4} - 2 P_{2} \\psi_{1 2} v_{2} + P_{3} \\psi_{1 1} v_{3}\\right)}{2}\\\\\\frac{i g_{R} \\left(2 P_{0} \\psi_{1 1} v_{4} + P_{0} \\psi_{1 2} v_{2} - P_{1} \\psi_{1 2} v_{1} + P_{2} \\psi_{1 2} v_{4} - 2 P_{3} \\psi_{1 1} v_{1} - P_{3} \\psi_{1 2} v_{3}\\right)}{2}\\\\\\frac{i g_{L} \\left(P_{0} \\psi_{1 3} v_{2} - 2 P_{0} \\psi_{1 4} v_{3} - P_{1} \\psi_{1 3} v_{1} - P_{2} \\psi_{1 3} v_{4} + 2 P_{2} \\psi_{1 4} v_{1} + P_{3} \\psi_{1 3} v_{3}\\right)}{2}\\\\\\frac{i g_{L} \\left(- P_{0} \\psi_{1 4} v_{2} - 2 P_{1} \\psi_{1 3} v_{4} + P_{1} \\psi_{1 4} v_{1} + P_{2} \\psi_{1 4} v_{4} + 2 P_{3} \\psi_{1 3} v_{2} - P_{3} \\psi_{1 4} v_{3}\\right)}{2}\\end{matrix}\\right]$"
      ],
      "text/plain": [
       "⎡ⅈ⋅g_R⋅(-P₀⋅ψ₁ ₁⋅v₂ + P₁⋅ψ₁ ₁⋅v₁ + 2⋅P₁⋅ψ₁ ₂⋅v₃ - P₂⋅ψ₁ ₁⋅v₄ - 2⋅P₂⋅ψ₁ ₂⋅v₂ + \n",
       "⎢─────────────────────────────────────────────────────────────────────────────\n",
       "⎢                                           2                                 \n",
       "⎢                                                                             \n",
       "⎢ⅈ⋅g_R⋅(2⋅P₀⋅ψ₁ ₁⋅v₄ + P₀⋅ψ₁ ₂⋅v₂ - P₁⋅ψ₁ ₂⋅v₁ + P₂⋅ψ₁ ₂⋅v₄ - 2⋅P₃⋅ψ₁ ₁⋅v₁ - P\n",
       "⎢─────────────────────────────────────────────────────────────────────────────\n",
       "⎢                                           2                                 \n",
       "⎢                                                                             \n",
       "⎢ⅈ⋅g_L⋅(P₀⋅ψ₁ ₃⋅v₂ - 2⋅P₀⋅ψ₁ ₄⋅v₃ - P₁⋅ψ₁ ₃⋅v₁ - P₂⋅ψ₁ ₃⋅v₄ + 2⋅P₂⋅ψ₁ ₄⋅v₁ + P\n",
       "⎢─────────────────────────────────────────────────────────────────────────────\n",
       "⎢                                           2                                 \n",
       "⎢                                                                             \n",
       "⎢ⅈ⋅g_L⋅(-P₀⋅ψ₁ ₄⋅v₂ - 2⋅P₁⋅ψ₁ ₃⋅v₄ + P₁⋅ψ₁ ₄⋅v₁ + P₂⋅ψ₁ ₄⋅v₄ + 2⋅P₃⋅ψ₁ ₃⋅v₂ - \n",
       "⎢─────────────────────────────────────────────────────────────────────────────\n",
       "⎣                                           2                                 \n",
       "\n",
       "P₃⋅ψ₁ ₁⋅v₃)⎤\n",
       "───────────⎥\n",
       "           ⎥\n",
       "           ⎥\n",
       "₃⋅ψ₁ ₂⋅v₃) ⎥\n",
       "────────── ⎥\n",
       "           ⎥\n",
       "           ⎥\n",
       "₃⋅ψ₁ ₃⋅v₃) ⎥\n",
       "────────── ⎥\n",
       "           ⎥\n",
       "           ⎥\n",
       "P₃⋅ψ₁ ₄⋅v₃)⎥\n",
       "───────────⎥\n",
       "           ⎦"
      ]
     },
     "metadata": {},
     "output_type": "display_data"
    }
   ],
   "source": [
    "# ψ_Bar* uG* ψ result in Lorentz representation\n",
    "out_current_2a = DS.uG_operator_ff(P, psi1_nonZero_comp, psi2_nonZero_comp)\n",
    "\n",
    "# ψ_Bar* uG* ψ result in lightcone representation\n",
    "out_current_2b = DS.uG_operator_ff(P, psi1_nonZero_comp, psi2_nonZero_comp, representation=\"lightcone\")\n",
    "\n",
    "# g* uG* ψ result in lightcone representation\n",
    "out_current_2c = DS.uG_operator_vf(P, v, psi1_nonZero_comp, antispinor=False, representation=\"lightcone\")\n",
    "\n",
    "# g* uG* ψ result in lightcone representation with propagator\n",
    "out_current_2d = DS.uG_operator_vf(P, v, psi1_nonZero_comp, antispinor=False, representation=\"lightcone\", propagator=True)\n",
    "\n",
    "# g* uG* ψ result in lightcone representation\n",
    "out_current_2ca = DS.uG_operator_vf(P, v, psi1_nonZero_comp, antispinor=True, representation=\"lightcone\")\n",
    "\n",
    "# # g* uG* ψ result in lightcone representation with propagator\n",
    "# out_current_2da = DS.uG_operator_vf(P, v, psi1_nonZero_comp, antispinor=False, representation=\"lightcone\", propagator=True)\n",
    "\n",
    "\n",
    "print(\"\\n the output current for the process f + f -> g, in Lorentz representation, is:\")\n",
    "display(sp.simplify(sp.cancel((out_current_2a))))\n",
    "\n",
    "print(\"\\n the output current for the process f + f -> g, in lightcone representation, is:\")\n",
    "display(sp.simplify(sp.cancel((out_current_2b))))\n",
    "\n",
    "print(\"\\n the output current for the process f + g -> f, in lightcone representation without propagator, is:\")\n",
    "display(sp.simplify(sp.cancel((out_current_2c))))\n",
    "\n",
    "print(\"\\n the output current for the process f + g -> f, in lightcone representation with propagator, is:\")\n",
    "display(sp.simplify(sp.cancel((out_current_2d))))\n",
    "\n",
    "print(\"\\n the output current for the process anti_f + g -> anti_f, in lightcone representation without propagator, is:\")\n",
    "display(sp.simplify(sp.cancel((out_current_2ca))))"
   ]
  }
 ],
 "metadata": {
  "kernelspec": {
   "display_name": "Python 3",
   "language": "python",
   "name": "python3"
  },
  "language_info": {
   "codemirror_mode": {
    "name": "ipython",
    "version": 3
   },
   "file_extension": ".py",
   "mimetype": "text/x-python",
   "name": "python",
   "nbconvert_exporter": "python",
   "pygments_lexer": "ipython3",
   "version": "3.12.2"
  }
 },
 "nbformat": 4,
 "nbformat_minor": 2
}
